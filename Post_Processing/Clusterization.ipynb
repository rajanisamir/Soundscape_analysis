{
 "cells": [
  {
   "cell_type": "markdown",
   "id": "b755fdbe",
   "metadata": {},
   "source": [
    "# Generate clusters from features"
   ]
  },
  {
   "cell_type": "code",
   "execution_count": 4,
   "id": "f8d9e854",
   "metadata": {},
   "outputs": [],
   "source": [
    "from joblib import dump, load\n",
    "from collections import namedtuple\n",
    "\n",
    "import cluster_features"
   ]
  },
  {
   "cell_type": "code",
   "execution_count": 5,
   "id": "6680b688",
   "metadata": {},
   "outputs": [],
   "source": [
    "# For Xeno-Canto\n",
    "# subsample_feats = 0.51214\n",
    "# features_path = '/projects/MultiActiveAI/Samir_VICReg_Outputs/xeno_canto_features'\n",
    "# include_indices_path = None\n",
    "# output_dir = '/projects/MultiActiveAI/Samir_VICReg_Outputs/xeno_canto_clusters'\n",
    "\n",
    "# For Morton Arboretum\n",
    "subsample_feats = 0.2\n",
    "features_path = '/projects/MultiActiveAI/Samir_VICReg_Outputs/features_second_pass'\n",
    "exclude_indices_path = '/projects/MultiActiveAI/Samir_VICReg_Outputs/indices_first_pass/exclude_indices.pth'\n",
    "output_dir = '/projects/MultiActiveAI/Samir_VICReg_Outputs/clusters_second_pass_big_100'\n",
    "\n",
    "# subsample_feats = 0.00234052\n",
    "# features_path = '/projects/MultiActiveAI/Samir_VICReg_Outputs/features_third_pass'\n",
    "# include_indices_path = '/projects/MultiActiveAI/Samir_VICReg_Outputs/indices_third_pass/include_indices.pth'\n",
    "# output_dir = '/projects/MultiActiveAI/Samir_VICReg_Outputs/clusters_third_pass'"
   ]
  },
  {
   "cell_type": "markdown",
   "id": "fd3dc5fb",
   "metadata": {},
   "source": [
    "Compose the arguments"
   ]
  },
  {
   "cell_type": "code",
   "execution_count": 6,
   "id": "b370662b",
   "metadata": {},
   "outputs": [],
   "source": [
    "Arguments = namedtuple('Arguments', ['features_path',\n",
    "                                     'include_indices_path',\n",
    "                                     'exclude_indices_path',\n",
    "                                     'dimensions',\n",
    "                                     'dim_red_method',\n",
    "                                     'clustering_method',\n",
    "                                     'dbscan_eps',\n",
    "                                     'dbscan_min_samples',\n",
    "                                     'kmeans_n_clusters',\n",
    "                                     'som_m',\n",
    "                                     'som_n',\n",
    "                                     'output_dir',\n",
    "                                     'subsample_feats'\n",
    "                                    ])\n",
    "\n",
    "args = Arguments(features_path = features_path,\n",
    "                 include_indices_path = None,\n",
    "                 exclude_indices_path = exclude_indices_path,\n",
    "                 dimensions = 2,\n",
    "                 dim_red_method = 'PCA',\n",
    "                 clustering_method = 'KMEANS',\n",
    "                 dbscan_eps = 0.5,\n",
    "                 dbscan_min_samples = 30,\n",
    "                 kmeans_n_clusters = 100,\n",
    "                 som_m = 3,\n",
    "                 som_n = 3,\n",
    "                 output_dir = output_dir,\n",
    "                 subsample_feats = subsample_feats\n",
    "                )"
   ]
  },
  {
   "cell_type": "markdown",
   "id": "2077ead3",
   "metadata": {},
   "source": [
    "Generate Clusters"
   ]
  },
  {
   "cell_type": "code",
   "execution_count": 7,
   "id": "cd5986d8",
   "metadata": {},
   "outputs": [
    {
     "name": "stdout",
     "output_type": "stream",
     "text": [
      "BRINGING FEATURES AND SCALE THEM ...\n",
      "We have 2136286 feature vectors before removing indices\n",
      "We have 1978138 feature vectors after removing indices\n",
      "Sub-sampling to 20.0 %.\n",
      "We ended up with 395627 feature vectors.\n",
      "DONE!\n",
      "REDUCING DIMENSIONALITY ...\n",
      "DONE!\n",
      "CLUSTERING DATA ...\n",
      "DONE!\n",
      "/projects/MultiActiveAI/Samir_VICReg_Outputs/clusters_second_pass_big_100/clusters saved.\n",
      "/projects/MultiActiveAI/Samir_VICReg_Outputs/clusters_second_pass_big_100/dim_red_model saved.\n",
      "/projects/MultiActiveAI/Samir_VICReg_Outputs/clusters_second_pass_big_100/scale_model saved.\n"
     ]
    }
   ],
   "source": [
    "cluster_features.main(args)"
   ]
  },
  {
   "cell_type": "code",
   "execution_count": null,
   "id": "83685274",
   "metadata": {},
   "outputs": [],
   "source": []
  }
 ],
 "metadata": {
  "kernelspec": {
   "display_name": "conda/2021-09-22",
   "language": "python",
   "name": "conda-2021-09-22"
  },
  "language_info": {
   "codemirror_mode": {
    "name": "ipython",
    "version": 3
   },
   "file_extension": ".py",
   "mimetype": "text/x-python",
   "name": "python",
   "nbconvert_exporter": "python",
   "pygments_lexer": "ipython3",
   "version": "3.8.10"
  }
 },
 "nbformat": 4,
 "nbformat_minor": 5
}
