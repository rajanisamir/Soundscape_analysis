{
 "cells": [
  {
   "cell_type": "markdown",
   "id": "6ea02e5a",
   "metadata": {},
   "source": [
    "# K Nearest Neighbor Evaluation"
   ]
  },
  {
   "cell_type": "code",
   "execution_count": 1,
   "id": "deab0fec",
   "metadata": {},
   "outputs": [],
   "source": [
    "import os\n",
    "import numpy as np\n",
    "import torch\n",
    "\n",
    "from datetime import datetime\n",
    "\n",
    "from sklearn.neighbors import KNeighborsClassifier\n",
    "from sklearn.decomposition import PCA\n",
    "\n",
    "from bring_features_and_file_paths import get_BirdNET_detections\n",
    "from bring_features_and_file_paths import get_spectrogram_time_mark_in_file\n",
    "from bring_features_and_file_paths import bring_features_and_file_paths\n",
    "from bring_features_and_file_paths import from_spectrogram_path_to_BirdNET_output_path\n",
    "\n",
    "import matplotlib.pyplot as plt\n",
    "\n",
    "from tqdm import tqdm\n",
    "\n",
    "import seaborn as sns"
   ]
  },
  {
   "cell_type": "code",
   "execution_count": 27,
   "id": "815a8c0e",
   "metadata": {},
   "outputs": [],
   "source": [
    "features_path = '/projects/MultiActiveAI/Samir_VICReg_Outputs/features_second_pass'\n",
    "indices_path = '/projects/MultiActiveAI/Samir_VICReg_Outputs/indices_first_pass/exclude_indices.pth'\n",
    "\n",
    "# clusters_path = '/projects/MultiActiveAI/Samir_VICReg_Outputs/clusters_third_pass'\n",
    "# include_indices_path = '/projects/MultiActiveAI/Samir_VICReg_Outputs/indices_third_pass/include_indices.pth'\n",
    "# label_predictions_path = '/projects/MultiActiveAI/Samir_VICReg_Outputs/indices_third_pass/label_predictions.pth'\n",
    "# indices_path = '/projects/MultiActiveAI/Samir_VICReg_Outputs/indices_third_pass/indices.pth'"
   ]
  },
  {
   "cell_type": "code",
   "execution_count": 28,
   "id": "71bba5b5",
   "metadata": {
    "scrolled": false
   },
   "outputs": [
    {
     "name": "stdout",
     "output_type": "stream",
     "text": [
      "We have 2136286 feature vectors.\n"
     ]
    },
    {
     "ename": "KeyboardInterrupt",
     "evalue": "",
     "output_type": "error",
     "traceback": [
      "\u001b[0;31m---------------------------------------------------------------------------\u001b[0m",
      "\u001b[0;31mKeyboardInterrupt\u001b[0m                         Traceback (most recent call last)",
      "\u001b[0;32m/tmp/ipykernel_8520/1203311074.py\u001b[0m in \u001b[0;36m<module>\u001b[0;34m\u001b[0m\n\u001b[1;32m     11\u001b[0m \u001b[0mfpaths\u001b[0m\u001b[0;34m=\u001b[0m\u001b[0mfpaths\u001b[0m\u001b[0;34m[\u001b[0m\u001b[0mindices\u001b[0m\u001b[0;34m]\u001b[0m\u001b[0;34m\u001b[0m\u001b[0;34m\u001b[0m\u001b[0m\n\u001b[1;32m     12\u001b[0m \u001b[0;34m\u001b[0m\u001b[0m\n\u001b[0;32m---> 13\u001b[0;31m \u001b[0mfeats\u001b[0m \u001b[0;34m=\u001b[0m \u001b[0mPCA\u001b[0m\u001b[0;34m(\u001b[0m\u001b[0mn_components\u001b[0m\u001b[0;34m=\u001b[0m\u001b[0;36m384\u001b[0m\u001b[0;34m)\u001b[0m\u001b[0;34m.\u001b[0m\u001b[0mfit_transform\u001b[0m\u001b[0;34m(\u001b[0m\u001b[0mfeats\u001b[0m\u001b[0;34m)\u001b[0m\u001b[0;34m\u001b[0m\u001b[0;34m\u001b[0m\u001b[0m\n\u001b[0m",
      "\u001b[0;32m/lus/theta-fs0/software/datascience/conda/2021-09-22/mconda3/lib/python3.8/site-packages/sklearn/decomposition/_pca.py\u001b[0m in \u001b[0;36mfit_transform\u001b[0;34m(self, X, y)\u001b[0m\n\u001b[1;32m    405\u001b[0m         \u001b[0mC\u001b[0m\u001b[0;34m-\u001b[0m\u001b[0mordered\u001b[0m \u001b[0marray\u001b[0m\u001b[0;34m,\u001b[0m \u001b[0muse\u001b[0m \u001b[0;34m'np.ascontiguousarray'\u001b[0m\u001b[0;34m.\u001b[0m\u001b[0;34m\u001b[0m\u001b[0;34m\u001b[0m\u001b[0m\n\u001b[1;32m    406\u001b[0m         \"\"\"\n\u001b[0;32m--> 407\u001b[0;31m         \u001b[0mU\u001b[0m\u001b[0;34m,\u001b[0m \u001b[0mS\u001b[0m\u001b[0;34m,\u001b[0m \u001b[0mVt\u001b[0m \u001b[0;34m=\u001b[0m \u001b[0mself\u001b[0m\u001b[0;34m.\u001b[0m\u001b[0m_fit\u001b[0m\u001b[0;34m(\u001b[0m\u001b[0mX\u001b[0m\u001b[0;34m)\u001b[0m\u001b[0;34m\u001b[0m\u001b[0;34m\u001b[0m\u001b[0m\n\u001b[0m\u001b[1;32m    408\u001b[0m         \u001b[0mU\u001b[0m \u001b[0;34m=\u001b[0m \u001b[0mU\u001b[0m\u001b[0;34m[\u001b[0m\u001b[0;34m:\u001b[0m\u001b[0;34m,\u001b[0m \u001b[0;34m:\u001b[0m \u001b[0mself\u001b[0m\u001b[0;34m.\u001b[0m\u001b[0mn_components_\u001b[0m\u001b[0;34m]\u001b[0m\u001b[0;34m\u001b[0m\u001b[0;34m\u001b[0m\u001b[0m\n\u001b[1;32m    409\u001b[0m \u001b[0;34m\u001b[0m\u001b[0m\n",
      "\u001b[0;32m/lus/theta-fs0/software/datascience/conda/2021-09-22/mconda3/lib/python3.8/site-packages/sklearn/decomposition/_pca.py\u001b[0m in \u001b[0;36m_fit\u001b[0;34m(self, X)\u001b[0m\n\u001b[1;32m    457\u001b[0m             \u001b[0;32mreturn\u001b[0m \u001b[0mself\u001b[0m\u001b[0;34m.\u001b[0m\u001b[0m_fit_full\u001b[0m\u001b[0;34m(\u001b[0m\u001b[0mX\u001b[0m\u001b[0;34m,\u001b[0m \u001b[0mn_components\u001b[0m\u001b[0;34m)\u001b[0m\u001b[0;34m\u001b[0m\u001b[0;34m\u001b[0m\u001b[0m\n\u001b[1;32m    458\u001b[0m         \u001b[0;32melif\u001b[0m \u001b[0mself\u001b[0m\u001b[0;34m.\u001b[0m\u001b[0m_fit_svd_solver\u001b[0m \u001b[0;32min\u001b[0m \u001b[0;34m[\u001b[0m\u001b[0;34m\"arpack\"\u001b[0m\u001b[0;34m,\u001b[0m \u001b[0;34m\"randomized\"\u001b[0m\u001b[0;34m]\u001b[0m\u001b[0;34m:\u001b[0m\u001b[0;34m\u001b[0m\u001b[0;34m\u001b[0m\u001b[0m\n\u001b[0;32m--> 459\u001b[0;31m             \u001b[0;32mreturn\u001b[0m \u001b[0mself\u001b[0m\u001b[0;34m.\u001b[0m\u001b[0m_fit_truncated\u001b[0m\u001b[0;34m(\u001b[0m\u001b[0mX\u001b[0m\u001b[0;34m,\u001b[0m \u001b[0mn_components\u001b[0m\u001b[0;34m,\u001b[0m \u001b[0mself\u001b[0m\u001b[0;34m.\u001b[0m\u001b[0m_fit_svd_solver\u001b[0m\u001b[0;34m)\u001b[0m\u001b[0;34m\u001b[0m\u001b[0;34m\u001b[0m\u001b[0m\n\u001b[0m\u001b[1;32m    460\u001b[0m         \u001b[0;32melse\u001b[0m\u001b[0;34m:\u001b[0m\u001b[0;34m\u001b[0m\u001b[0;34m\u001b[0m\u001b[0m\n\u001b[1;32m    461\u001b[0m             raise ValueError(\n",
      "\u001b[0;32m/lus/theta-fs0/software/datascience/conda/2021-09-22/mconda3/lib/python3.8/site-packages/sklearn/decomposition/_pca.py\u001b[0m in \u001b[0;36m_fit_truncated\u001b[0;34m(self, X, n_components, svd_solver)\u001b[0m\n\u001b[1;32m    564\u001b[0m \u001b[0;34m\u001b[0m\u001b[0m\n\u001b[1;32m    565\u001b[0m         \u001b[0;31m# Center data\u001b[0m\u001b[0;34m\u001b[0m\u001b[0;34m\u001b[0m\u001b[0;34m\u001b[0m\u001b[0m\n\u001b[0;32m--> 566\u001b[0;31m         \u001b[0mself\u001b[0m\u001b[0;34m.\u001b[0m\u001b[0mmean_\u001b[0m \u001b[0;34m=\u001b[0m \u001b[0mnp\u001b[0m\u001b[0;34m.\u001b[0m\u001b[0mmean\u001b[0m\u001b[0;34m(\u001b[0m\u001b[0mX\u001b[0m\u001b[0;34m,\u001b[0m \u001b[0maxis\u001b[0m\u001b[0;34m=\u001b[0m\u001b[0;36m0\u001b[0m\u001b[0;34m)\u001b[0m\u001b[0;34m\u001b[0m\u001b[0;34m\u001b[0m\u001b[0m\n\u001b[0m\u001b[1;32m    567\u001b[0m         \u001b[0mX\u001b[0m \u001b[0;34m-=\u001b[0m \u001b[0mself\u001b[0m\u001b[0;34m.\u001b[0m\u001b[0mmean_\u001b[0m\u001b[0;34m\u001b[0m\u001b[0;34m\u001b[0m\u001b[0m\n\u001b[1;32m    568\u001b[0m \u001b[0;34m\u001b[0m\u001b[0m\n",
      "\u001b[0;32m/lus/swift/home/srajani/.local/conda/2021-09-22/lib/python3.8/site-packages/numpy/core/overrides.py\u001b[0m in \u001b[0;36mmean\u001b[0;34m(*args, **kwargs)\u001b[0m\n",
      "\u001b[0;32m/lus/swift/home/srajani/.local/conda/2021-09-22/lib/python3.8/site-packages/numpy/core/fromnumeric.py\u001b[0m in \u001b[0;36mmean\u001b[0;34m(a, axis, dtype, out, keepdims, where)\u001b[0m\n\u001b[1;32m   3472\u001b[0m             \u001b[0;32mreturn\u001b[0m \u001b[0mmean\u001b[0m\u001b[0;34m(\u001b[0m\u001b[0maxis\u001b[0m\u001b[0;34m=\u001b[0m\u001b[0maxis\u001b[0m\u001b[0;34m,\u001b[0m \u001b[0mdtype\u001b[0m\u001b[0;34m=\u001b[0m\u001b[0mdtype\u001b[0m\u001b[0;34m,\u001b[0m \u001b[0mout\u001b[0m\u001b[0;34m=\u001b[0m\u001b[0mout\u001b[0m\u001b[0;34m,\u001b[0m \u001b[0;34m**\u001b[0m\u001b[0mkwargs\u001b[0m\u001b[0;34m)\u001b[0m\u001b[0;34m\u001b[0m\u001b[0;34m\u001b[0m\u001b[0m\n\u001b[1;32m   3473\u001b[0m \u001b[0;34m\u001b[0m\u001b[0m\n\u001b[0;32m-> 3474\u001b[0;31m     return _methods._mean(a, axis=axis, dtype=dtype,\n\u001b[0m\u001b[1;32m   3475\u001b[0m                           out=out, **kwargs)\n\u001b[1;32m   3476\u001b[0m \u001b[0;34m\u001b[0m\u001b[0m\n",
      "\u001b[0;32m/lus/swift/home/srajani/.local/conda/2021-09-22/lib/python3.8/site-packages/numpy/core/_methods.py\u001b[0m in \u001b[0;36m_mean\u001b[0;34m(a, axis, dtype, out, keepdims, where)\u001b[0m\n\u001b[1;32m    177\u001b[0m             \u001b[0mis_float16_result\u001b[0m \u001b[0;34m=\u001b[0m \u001b[0;32mTrue\u001b[0m\u001b[0;34m\u001b[0m\u001b[0;34m\u001b[0m\u001b[0m\n\u001b[1;32m    178\u001b[0m \u001b[0;34m\u001b[0m\u001b[0m\n\u001b[0;32m--> 179\u001b[0;31m     \u001b[0mret\u001b[0m \u001b[0;34m=\u001b[0m \u001b[0mumr_sum\u001b[0m\u001b[0;34m(\u001b[0m\u001b[0marr\u001b[0m\u001b[0;34m,\u001b[0m \u001b[0maxis\u001b[0m\u001b[0;34m,\u001b[0m \u001b[0mdtype\u001b[0m\u001b[0;34m,\u001b[0m \u001b[0mout\u001b[0m\u001b[0;34m,\u001b[0m \u001b[0mkeepdims\u001b[0m\u001b[0;34m,\u001b[0m \u001b[0mwhere\u001b[0m\u001b[0;34m=\u001b[0m\u001b[0mwhere\u001b[0m\u001b[0;34m)\u001b[0m\u001b[0;34m\u001b[0m\u001b[0;34m\u001b[0m\u001b[0m\n\u001b[0m\u001b[1;32m    180\u001b[0m     \u001b[0;32mif\u001b[0m \u001b[0misinstance\u001b[0m\u001b[0;34m(\u001b[0m\u001b[0mret\u001b[0m\u001b[0;34m,\u001b[0m \u001b[0mmu\u001b[0m\u001b[0;34m.\u001b[0m\u001b[0mndarray\u001b[0m\u001b[0;34m)\u001b[0m\u001b[0;34m:\u001b[0m\u001b[0;34m\u001b[0m\u001b[0;34m\u001b[0m\u001b[0m\n\u001b[1;32m    181\u001b[0m         ret = um.true_divide(\n",
      "\u001b[0;31mKeyboardInterrupt\u001b[0m: "
     ]
    }
   ],
   "source": [
    "feats, fpaths = bring_features_and_file_paths(features_path, sub_sample=None)\n",
    "\n",
    "exclude_indices = set(torch.load(indices_path))\n",
    "# exclude_indices = set(torch.load(indices_path)) | altered_gain_indices\n",
    "include_indices = [idx for idx in range(len(feats)) if idx not in exclude_indices]\n",
    "feats = feats[include_indices]\n",
    "fpaths = fpaths[include_indices]\n",
    "\n",
    "indices = torch.randperm(feats.size()[0])\n",
    "feats=feats[indices]\n",
    "fpaths=fpaths[indices]\n",
    "\n",
    "feats = PCA(n_components=384).fit_transform(feats)"
   ]
  },
  {
   "cell_type": "code",
   "execution_count": 20,
   "id": "0d46786a",
   "metadata": {},
   "outputs": [
    {
     "ename": "KeyboardInterrupt",
     "evalue": "",
     "output_type": "error",
     "traceback": [
      "\u001b[0;31m---------------------------------------------------------------------------\u001b[0m",
      "\u001b[0;31mKeyboardInterrupt\u001b[0m                         Traceback (most recent call last)",
      "\u001b[0;32m/tmp/ipykernel_8520/3028486291.py\u001b[0m in \u001b[0;36m<module>\u001b[0;34m\u001b[0m\n\u001b[0;32m----> 1\u001b[0;31m \u001b[0mnp\u001b[0m\u001b[0;34m.\u001b[0m\u001b[0msave\u001b[0m\u001b[0;34m(\u001b[0m\u001b[0;34m'/projects/MultiActiveAI/Samir_VICReg_Outputs/pca_feats.npy'\u001b[0m\u001b[0;34m,\u001b[0m \u001b[0mfeats\u001b[0m\u001b[0;34m)\u001b[0m\u001b[0;34m\u001b[0m\u001b[0;34m\u001b[0m\u001b[0m\n\u001b[0m\u001b[1;32m      2\u001b[0m \u001b[0mnp\u001b[0m\u001b[0;34m.\u001b[0m\u001b[0msave\u001b[0m\u001b[0;34m(\u001b[0m\u001b[0;34m'/projects/MultiActiveAI/Samir_VICReg_Outputs/pca_fpaths.npy'\u001b[0m\u001b[0;34m,\u001b[0m \u001b[0mfpaths\u001b[0m\u001b[0;34m)\u001b[0m\u001b[0;34m\u001b[0m\u001b[0;34m\u001b[0m\u001b[0m\n",
      "\u001b[0;32m/lus/swift/home/srajani/.local/conda/2021-09-22/lib/python3.8/site-packages/numpy/core/overrides.py\u001b[0m in \u001b[0;36msave\u001b[0;34m(*args, **kwargs)\u001b[0m\n",
      "\u001b[0;32m/lus/swift/home/srajani/.local/conda/2021-09-22/lib/python3.8/site-packages/numpy/lib/npyio.py\u001b[0m in \u001b[0;36msave\u001b[0;34m(file, arr, allow_pickle, fix_imports)\u001b[0m\n\u001b[1;32m    517\u001b[0m     \u001b[0;32mwith\u001b[0m \u001b[0mfile_ctx\u001b[0m \u001b[0;32mas\u001b[0m \u001b[0mfid\u001b[0m\u001b[0;34m:\u001b[0m\u001b[0;34m\u001b[0m\u001b[0;34m\u001b[0m\u001b[0m\n\u001b[1;32m    518\u001b[0m         \u001b[0marr\u001b[0m \u001b[0;34m=\u001b[0m \u001b[0mnp\u001b[0m\u001b[0;34m.\u001b[0m\u001b[0masanyarray\u001b[0m\u001b[0;34m(\u001b[0m\u001b[0marr\u001b[0m\u001b[0;34m)\u001b[0m\u001b[0;34m\u001b[0m\u001b[0;34m\u001b[0m\u001b[0m\n\u001b[0;32m--> 519\u001b[0;31m         format.write_array(fid, arr, allow_pickle=allow_pickle,\n\u001b[0m\u001b[1;32m    520\u001b[0m                            pickle_kwargs=dict(fix_imports=fix_imports))\n\u001b[1;32m    521\u001b[0m \u001b[0;34m\u001b[0m\u001b[0m\n",
      "\u001b[0;32m/lus/swift/home/srajani/.local/conda/2021-09-22/lib/python3.8/site-packages/numpy/lib/format.py\u001b[0m in \u001b[0;36mwrite_array\u001b[0;34m(fp, array, version, allow_pickle, pickle_kwargs)\u001b[0m\n\u001b[1;32m    688\u001b[0m     \u001b[0;32melse\u001b[0m\u001b[0;34m:\u001b[0m\u001b[0;34m\u001b[0m\u001b[0;34m\u001b[0m\u001b[0m\n\u001b[1;32m    689\u001b[0m         \u001b[0;32mif\u001b[0m \u001b[0misfileobj\u001b[0m\u001b[0;34m(\u001b[0m\u001b[0mfp\u001b[0m\u001b[0;34m)\u001b[0m\u001b[0;34m:\u001b[0m\u001b[0;34m\u001b[0m\u001b[0;34m\u001b[0m\u001b[0m\n\u001b[0;32m--> 690\u001b[0;31m             \u001b[0marray\u001b[0m\u001b[0;34m.\u001b[0m\u001b[0mtofile\u001b[0m\u001b[0;34m(\u001b[0m\u001b[0mfp\u001b[0m\u001b[0;34m)\u001b[0m\u001b[0;34m\u001b[0m\u001b[0;34m\u001b[0m\u001b[0m\n\u001b[0m\u001b[1;32m    691\u001b[0m         \u001b[0;32melse\u001b[0m\u001b[0;34m:\u001b[0m\u001b[0;34m\u001b[0m\u001b[0;34m\u001b[0m\u001b[0m\n\u001b[1;32m    692\u001b[0m             for chunk in numpy.nditer(\n",
      "\u001b[0;31mKeyboardInterrupt\u001b[0m: "
     ]
    }
   ],
   "source": [
    "np.save('/projects/MultiActiveAI/Samir_VICReg_Outputs/pca_feats.npy', feats)\n",
    "np.save('/projects/MultiActiveAI/Samir_VICReg_Outputs/pca_fpaths.npy', fpaths)"
   ]
  },
  {
   "cell_type": "code",
   "execution_count": 70,
   "id": "d3832310",
   "metadata": {},
   "outputs": [],
   "source": [
    "feats = np.load('/projects/MultiActiveAI/Samir_VICReg_Outputs/pca_feats.npy')\n",
    "fpaths = np.load('/projects/MultiActiveAI/Samir_VICReg_Outputs/pca_fpaths.npy')"
   ]
  },
  {
   "cell_type": "code",
   "execution_count": 71,
   "id": "158eb9b2",
   "metadata": {},
   "outputs": [
    {
     "data": {
      "text/plain": [
       "(1978138, 384)"
      ]
     },
     "execution_count": 71,
     "metadata": {},
     "output_type": "execute_result"
    }
   ],
   "source": [
    "feats.shape"
   ]
  },
  {
   "cell_type": "code",
   "execution_count": 72,
   "id": "3fc82d0d",
   "metadata": {},
   "outputs": [],
   "source": [
    "device_to_location = {\n",
    "    4862: \"Grassland 1\",\n",
    "    4879: \"Grassland 2\",\n",
    "    23734: \"Forest 1\",\n",
    "    23764: \"Forest 2\",\n",
    "    23795: \"Forest 3\",\n",
    "    23771: \"Forest 4\",\n",
    "    23757: (datetime(month=7, day=14, year=2021, hour=14, second=55), [\"Forest 3\", \"Forest 5\"]),\n",
    "    23700: \"Forest 6\",\n",
    "}"
   ]
  },
  {
   "cell_type": "code",
   "execution_count": 73,
   "id": "96e72fc8",
   "metadata": {
    "scrolled": true
   },
   "outputs": [
    {
     "name": "stderr",
     "output_type": "stream",
     "text": [
      " 10%|█         | 200001/1978138 [09:10<1:21:33, 363.38it/s]\n"
     ]
    }
   ],
   "source": [
    "aspect='detection'\n",
    "\n",
    "vectors=[]\n",
    "labels=[]\n",
    "BirdNET_BASE_PATH = '/grand/projects/BirdAudio/Soundscapes/BirdNET_Output'\n",
    "Spectrograms_BASE_PATH = '/grand/projects/BirdAudio/Soundscapes/Second_Filtered_Spectrograms/'\n",
    "# Spectrograms_BASE_PATH = '/grand/projects/BirdAudio/Soundscapes/First_Filtered_Spectrograms'\n",
    "spectrogram_duration = 9.0\n",
    "for k, (fpath, feat) in enumerate(tqdm(zip(fpaths,feats), total=len(feats))):\n",
    "    file_path = ''.join([chr(int(x)) for x in fpath]).replace('~','')\n",
    "    BirdNET_PATH = from_spectrogram_path_to_BirdNET_output_path(fpath)\n",
    "\n",
    "    try:\n",
    "        start_time = get_spectrogram_time_mark_in_file(fpath, spectrogram_duration)\n",
    "\n",
    "        interval = (start_time, start_time + spectrogram_duration)\n",
    "        data_elements = get_BirdNET_detections(os.path.join(BirdNET_BASE_PATH, BirdNET_PATH), interval, confidence_threshold = 0.0)\n",
    "\n",
    "\n",
    "        for data_element in data_elements:\n",
    "            device=int(data_element['device'])\n",
    "            if device!=23788:\n",
    "                if aspect=='location':\n",
    "                    location = device_to_location[device]\n",
    "                    if isinstance(location, tuple):\n",
    "                        date = datetime(month=data_element['month'], day=data_element['day'], year=data_element['year'], hour=data_element['hour'], second=data_element['second'])\n",
    "                        if date < location[0]:\n",
    "                            data_element['location'] = location[1][0]\n",
    "                        else:\n",
    "                            data_element['location'] = location[1][1]\n",
    "                    else:\n",
    "                        data_element['location'] = location\n",
    "\n",
    "                vectors.append(np.array(feat))\n",
    "                labels.append(data_element[aspect])\n",
    "\n",
    "    except:\n",
    "        print(\"Something was wrong with\")\n",
    "        print(file_path)\n",
    "\n",
    "\n",
    "    if k > 200000:\n",
    "        break\n",
    "\n",
    "vectors=np.array(vectors)\n",
    "labels=np.array(labels)\n",
    "unique_labels=np.unique(labels)\n",
    "aux=[]\n",
    "for label in labels:\n",
    "    aux.append(np.where(unique_labels==label)[0].item())\n",
    "    \n",
    "labels=np.array(aux)"
   ]
  },
  {
   "cell_type": "code",
   "execution_count": 74,
   "id": "36b86a89",
   "metadata": {},
   "outputs": [],
   "source": [
    "if aspect=='detection':\n",
    "    mask=np.array([unique_labels=='Blue Jay'])\n",
    "    mask=np.logical_or(mask,np.array([unique_labels=='Eastern Wood-Pewee']))\n",
    "#     mask=np.logical_or(mask,np.array([unique_labels=='Great Crested Flycatcher']))\n",
    "#     mask=np.logical_or(mask,np.array([unique_labels=='Hairy Woodpecker']))\n",
    "    mask=np.logical_or(mask,np.array([unique_labels=='Indigo Bunting']))\n",
    "    mask=np.logical_or(mask,np.array([unique_labels=='Ovenbird']))\n",
    "#     mask=np.logical_or(mask,np.array([unique_labels=='Red-eyed Vireo']))\n",
    "    mask=np.logical_or(mask,np.array([unique_labels=='Scarlet Tanager']))\n",
    "#     mask=np.logical_or(mask,np.array([unique_labels=='Tree Swallow']))\n",
    "    mask=np.logical_or(mask,np.array([unique_labels=='No detection']))\n",
    "\n",
    "    chosen_labels=np.where(mask[0])[0]\n",
    "    chosen_labels\n",
    "\n",
    "    def find_indices(A, B):\n",
    "        indices = np.where(np.isin(A, B))\n",
    "        return indices\n",
    "\n",
    "    indices=find_indices(labels, chosen_labels)[0]\n",
    "\n",
    "    vectors = vectors[indices]\n",
    "    labels = labels[indices]"
   ]
  },
  {
   "cell_type": "code",
   "execution_count": 75,
   "id": "b9766b97",
   "metadata": {},
   "outputs": [
    {
     "data": {
      "text/plain": [
       "(168498, 384)"
      ]
     },
     "execution_count": 75,
     "metadata": {},
     "output_type": "execute_result"
    }
   ],
   "source": [
    "vectors.shape"
   ]
  },
  {
   "cell_type": "code",
   "execution_count": 76,
   "id": "e488cf69",
   "metadata": {},
   "outputs": [
    {
     "data": {
      "text/plain": [
       "(168498,)"
      ]
     },
     "execution_count": 76,
     "metadata": {},
     "output_type": "execute_result"
    }
   ],
   "source": [
    "labels.shape"
   ]
  },
  {
   "cell_type": "code",
   "execution_count": 77,
   "id": "aa68d3eb",
   "metadata": {},
   "outputs": [
    {
     "data": {
      "text/plain": [
       "array(['American Crow', 'American Goldfinch', 'American Redstart',\n",
       "       'American Robin', 'Baltimore Oriole', 'Barn Swallow',\n",
       "       'Bay-breasted Warbler', 'Belted Kingfisher',\n",
       "       'Black-and-white Warbler', 'Black-capped Chickadee',\n",
       "       'Black-crowned Night-Heron', 'Black-throated Green Warbler',\n",
       "       'Blackburnian Warbler', 'Blackpoll Warbler', 'Blue Jay',\n",
       "       'Blue-gray Gnatcatcher', 'Blue-headed Vireo', 'Brown Thrasher',\n",
       "       'Brown-headed Cowbird', 'Canada Goose', 'Cape May Warbler',\n",
       "       'Caspian Tern', 'Cedar Waxwing', 'Chestnut-sided Warbler',\n",
       "       'Chimney Swift', 'Chipping Sparrow', 'Common Grackle',\n",
       "       'Common Nighthawk', 'Common Yellowthroat', \"Cooper's Hawk\",\n",
       "       'Dark-eyed Junco', 'Double-crested Cormorant', 'Downy Woodpecker',\n",
       "       'Eastern Bluebird', 'Eastern Kingbird', 'Eastern Phoebe',\n",
       "       'Eastern Towhee', 'Eastern Wood-Pewee', 'European Starling',\n",
       "       'Field Sparrow', 'Golden-winged Warbler', 'Gray Catbird',\n",
       "       'Gray-cheeked Thrush', 'Great Blue Heron',\n",
       "       'Great Crested Flycatcher', 'Great Egret', 'Green Heron',\n",
       "       'Hairy Woodpecker', 'Herring Gull', 'House Finch', 'House Sparrow',\n",
       "       'House Wren', 'Indigo Bunting', 'Killdeer', 'Least Flycatcher',\n",
       "       'Least Sandpiper', \"Lincoln's Sparrow\", 'Magnolia Warbler',\n",
       "       'Mallard', 'Marsh Wren', 'Mourning Dove', 'Nashville Warbler',\n",
       "       'No detection', 'Northern Cardinal', 'Northern Flicker',\n",
       "       'Northern Rough-winged Swallow', 'Northern Waterthrush',\n",
       "       'Olive-sided Flycatcher', 'Ovenbird', 'Palm Warbler',\n",
       "       'Philadelphia Vireo', 'Pied-billed Grebe',\n",
       "       'Red-bellied Woodpecker', 'Red-breasted Nuthatch',\n",
       "       'Red-eyed Vireo', 'Red-headed Woodpecker', 'Red-tailed Hawk',\n",
       "       'Red-winged Blackbird', 'Ring-billed Gull',\n",
       "       'Rose-breasted Grosbeak', 'Ruby-crowned Kinglet',\n",
       "       'Ruby-throated Hummingbird', 'Savannah Sparrow', 'Scarlet Tanager',\n",
       "       'Solitary Sandpiper', 'Song Sparrow', 'Spotted Sandpiper',\n",
       "       \"Swainson's Thrush\", 'Tennessee Warbler', 'Tree Swallow', 'Veery',\n",
       "       'Warbling Vireo', 'White-breasted Nuthatch',\n",
       "       'White-crowned Sparrow', 'White-throated Sparrow',\n",
       "       'Willow Flycatcher', \"Wilson's Warbler\", 'Wood Duck',\n",
       "       'Wood Thrush', 'Yellow Warbler', 'Yellow-bellied Sapsucker',\n",
       "       'Yellow-rumped Warbler', 'Yellow-throated Vireo'], dtype='<U29')"
      ]
     },
     "execution_count": 77,
     "metadata": {},
     "output_type": "execute_result"
    }
   ],
   "source": [
    "unique_labels"
   ]
  },
  {
   "cell_type": "code",
   "execution_count": 78,
   "id": "8936c8bd",
   "metadata": {},
   "outputs": [
    {
     "name": "stderr",
     "output_type": "stream",
     "text": [
      "  0%|          | 0/4 [00:00<?, ?it/s]/tmp/ipykernel_604172/4281146875.py:14: RuntimeWarning: invalid value encountered in long_scalars\n",
      "  per_label_performance.append(np.sum(label_predictions[indices]==label)/indices[0].shape[0])\n",
      " 25%|██▌       | 1/4 [09:13<27:41, 553.71s/it]/tmp/ipykernel_604172/4281146875.py:14: RuntimeWarning: invalid value encountered in long_scalars\n",
      "  per_label_performance.append(np.sum(label_predictions[indices]==label)/indices[0].shape[0])\n",
      " 50%|█████     | 2/4 [17:28<17:17, 518.90s/it]/tmp/ipykernel_604172/4281146875.py:14: RuntimeWarning: invalid value encountered in long_scalars\n",
      "  per_label_performance.append(np.sum(label_predictions[indices]==label)/indices[0].shape[0])\n",
      " 75%|███████▌  | 3/4 [25:45<08:28, 508.98s/it]/tmp/ipykernel_604172/4281146875.py:14: RuntimeWarning: invalid value encountered in long_scalars\n",
      "  per_label_performance.append(np.sum(label_predictions[indices]==label)/indices[0].shape[0])\n",
      "100%|██████████| 4/4 [33:58<00:00, 509.69s/it]\n"
     ]
    }
   ],
   "source": [
    "performances=[]\n",
    "performances_per_label=[]\n",
    "# jumps=list(np.arange(1,21,4))\n",
    "jumps=[5,10,15,20]\n",
    "for n in tqdm(jumps):\n",
    "    neigh = KNeighborsClassifier(n_neighbors=n)\n",
    "    neigh.fit(vectors, labels)\n",
    "    label_predictions=neigh.predict(vectors)\n",
    "    performances.append(np.sum(label_predictions==labels)/labels.shape[0])\n",
    "    \n",
    "    per_label_performance=[]\n",
    "    for label in range(len(unique_labels)):\n",
    "        indices=np.where(labels==label)\n",
    "        per_label_performance.append(np.sum(label_predictions[indices]==label)/indices[0].shape[0])\n",
    "        \n",
    "    per_label_performance=np.array(per_label_performance)\n",
    "    performances_per_label.append(per_label_performance)\n",
    "\n",
    "performances=np.array(performances)\n",
    "performances_per_label=np.array(performances_per_label)"
   ]
  },
  {
   "cell_type": "code",
   "execution_count": 79,
   "id": "03f91572",
   "metadata": {},
   "outputs": [],
   "source": [
    "np.save(f\"{aspect}_performances.npy\", performances)\n",
    "np.save(f\"{aspect}_performances_per_label.npy\", performances_per_label)"
   ]
  },
  {
   "cell_type": "code",
   "execution_count": 64,
   "id": "dea2fc16",
   "metadata": {},
   "outputs": [],
   "source": [
    "aspect = 'location'\n",
    "unique_labels = [*[f'Forest {i}' for i in range(1, 7)], *[f'Grassland {i}' for i in range(1, 3)]]\n",
    "jumps = [5, 10, 15, 20]\n",
    "\n",
    "performances = np.load(f\"{aspect}_performances.npy\")\n",
    "performances_per_label = np.load(f\"{aspect}_performances_per_label.npy\")"
   ]
  },
  {
   "cell_type": "code",
   "execution_count": 80,
   "id": "09dc2309",
   "metadata": {},
   "outputs": [
    {
     "data": {
      "text/plain": [
       "Text(0, 0.5, 'Performance')"
      ]
     },
     "execution_count": 80,
     "metadata": {},
     "output_type": "execute_result"
    },
    {
     "data": {
      "image/png": "[encoded data removed]",
      "text/plain": [
       "<Figure size 576x576 with 1 Axes>"
      ]
     },
     "metadata": {},
     "output_type": "display_data"
    }
   ],
   "source": [
    "#aux=np.array([int(j+1) for j in range(jumps)])\n",
    "aux=jumps\n",
    "plt.figure(figsize=(8,8))\n",
    "plt.plot(aux, performances, marker='o')\n",
    "plt.xticks(aux)\n",
    "plt.xlabel('Number of neighbors')\n",
    "plt.ylabel('Performance')"
   ]
  },
  {
   "cell_type": "code",
   "execution_count": 85,
   "id": "5f215131",
   "metadata": {},
   "outputs": [
    {
     "data": {
      "text/plain": [
       "Text(66.5, 0.5, 'Number of neighbors')"
      ]
     },
     "execution_count": 85,
     "metadata": {},
     "output_type": "execute_result"
    },
    {
     "data": {
      "image/png": "[encoded data removed]",
      "text/plain": [
       "<Figure size 720x288 with 2 Axes>"
      ]
     },
     "metadata": {},
     "output_type": "display_data"
    }
   ],
   "source": [
    "# sns.set(font_scale=20)\n",
    "# sns.set (rc = {'figure.figsize':(8,4)}) # detection\n",
    "# sns.set (rc = {'figure.figsize':(22,4)}) # hour\n",
    "sns.set (rc = {'figure.figsize':(10,4)}) # location\n",
    "# sns.set (rc = {'figure.figsize':(15,4)}) # week\n",
    "# sns.set (rc = {'figure.figsize':(5,4)}) # month\n",
    "\n",
    "sns.heatmap(performances_per_label[:,chosen_labels], xticklabels=unique_labels[chosen_labels], yticklabels=aux, annot=True, fmt=\".2f\", vmin=0.0, vmax=1.0)\n",
    "# sns.heatmap(performances_per_label, xticklabels=unique_labels, yticklabels=aux, annot=True, fmt=\".2f\", vmin=0.0, vmax=1.0)\n",
    "#plt.xlabel('Devices')\n",
    "plt.xlabel('Month')\n",
    "plt.ylabel('Number of neighbors')"
   ]
  },
  {
   "cell_type": "code",
   "execution_count": 91,
   "id": "58186ff1",
   "metadata": {},
   "outputs": [
    {
     "data": {
      "image/png": "[encoded data removed]",
      "text/plain": [
       "<Figure size 432x288 with 1 Axes>"
      ]
     },
     "metadata": {},
     "output_type": "display_data"
    }
   ],
   "source": [
    "# sns.set(font_scale=20)\n",
    "sns.set (rc = {'figure.figsize':(6,4)}) # detection\n",
    "# sns.set (rc = {'figure.figsize':(22,4)}) # hour\n",
    "# sns.set (rc = {'figure.figsize':(10,4)}) # location\n",
    "# sns.set (rc = {'figure.figsize':(14,4)}) # week\n",
    "# sns.set (rc = {'figure.figsize':(4,4)}) # month\n",
    "#sns.set (rc = {'figure.figsize':(55, 10)})\n",
    "# sns.heatmap(performances_per_label[:,chosen_labels], xticklabels=unique_labels[chosen_labels], yticklabels=False, annot=True, fmt=\".2f\", vmin=0.0, vmax=1.0, cbar=False)\n",
    "# sns.heatmap(performances_per_label[:,chosen_labels], xticklabels=False, yticklabels=aux, annot=True, fmt=\".2f\", vmin=0.0, vmax=1.0, cbar=False)\n",
    "sns.heatmap(performances_per_label[:,chosen_labels], xticklabels=False, yticklabels=aux, annot=True, fmt=\".2f\", vmin=0.0, vmax=1.0, cbar=False)\n",
    "# sns.heatmap(performances_per_label, xticklabels=False, yticklabels=False, annot=True, fmt=\".2f\", vmin=0.0, vmax=1.0, cbar=False)\n",
    "#plt.xlabel('Devices')\n",
    "# plt.xlabel('Month')\n",
    "# plt.ylabel('Number of neighbors')\n",
    "\n",
    "plt.savefig(f\"heatmap_{aspect}.png\", dpi=300)"
   ]
  },
  {
   "cell_type": "code",
   "execution_count": 83,
   "id": "d0d201bf",
   "metadata": {},
   "outputs": [
    {
     "data": {
      "text/plain": [
       "23795"
      ]
     },
     "execution_count": 83,
     "metadata": {},
     "output_type": "execute_result"
    }
   ],
   "source": [
    "int(data_element['device'])"
   ]
  },
  {
   "cell_type": "code",
   "execution_count": 84,
   "id": "9094f2db",
   "metadata": {},
   "outputs": [
    {
     "data": {
      "text/plain": [
       "array([0.88107871, 0.85894788, 0.84722074, 0.84071621])"
      ]
     },
     "execution_count": 84,
     "metadata": {},
     "output_type": "execute_result"
    }
   ],
   "source": [
    "performances"
   ]
  },
  {
   "cell_type": "code",
   "execution_count": 31,
   "id": "78e72e82",
   "metadata": {},
   "outputs": [
    {
     "data": {
      "image/png": "[encoded data removed]",
      "text/plain": [
       "<Figure size 72x1080 with 2 Axes>"
      ]
     },
     "metadata": {
      "needs_background": "light"
     },
     "output_type": "display_data"
    }
   ],
   "source": [
    "import pylab as pl\n",
    "import numpy as np\n",
    "\n",
    "a = np.array([[0,1]])\n",
    "pl.figure(figsize=(1, 15))\n",
    "img = pl.imshow(a, cmap=\"magma\")\n",
    "pl.gca().set_visible(False)\n",
    "cax = pl.axes([0.1, 0.2, 0.8, 0.6])\n",
    "cbar = pl.colorbar(cax=cax)\n",
    "cbar.ax.tick_params(labelsize=20, length=10, width=2)\n",
    "pl.savefig(\"colorbar.png\", dpi=300, bbox_inches='tight')"
   ]
  },
  {
   "cell_type": "code",
   "execution_count": null,
   "id": "2ec3c571",
   "metadata": {},
   "outputs": [],
   "source": []
  }
 ],
 "metadata": {
  "kernelspec": {
   "display_name": "conda/2021-09-22",
   "language": "python",
   "name": "conda-2021-09-22"
  },
  "language_info": {
   "codemirror_mode": {
    "name": "ipython",
    "version": 3
   },
   "file_extension": ".py",
   "mimetype": "text/x-python",
   "name": "python",
   "nbconvert_exporter": "python",
   "pygments_lexer": "ipython3",
   "version": "3.8.10"
  }
 },
 "nbformat": 4,
 "nbformat_minor": 5
}
