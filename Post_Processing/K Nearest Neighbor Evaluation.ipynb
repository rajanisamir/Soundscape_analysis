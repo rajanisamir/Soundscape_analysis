{
 "cells": [
  {
   "cell_type": "markdown",
   "id": "6ea02e5a",
   "metadata": {},
   "source": [
    "# K Nearest Neighbor Evaluation"
   ]
  },
  {
   "cell_type": "code",
   "execution_count": 1,
   "id": "deab0fec",
   "metadata": {},
   "outputs": [],
   "source": [
    "import os\n",
    "import numpy as np\n",
    "import torch\n",
    "\n",
    "from sklearn.neighbors import KNeighborsClassifier\n",
    "\n",
    "from bring_features_and_file_paths import get_BirdNET_detections\n",
    "from bring_features_and_file_paths import get_spectrogram_time_mark_in_file\n",
    "from bring_features_and_file_paths import bring_features_and_file_paths\n",
    "from bring_features_and_file_paths import from_spectrogram_path_to_BirdNET_output_path\n",
    "\n",
    "import matplotlib.pyplot as plt\n",
    "\n",
    "from tqdm import tqdm\n",
    "\n",
    "import seaborn as sns"
   ]
  },
  {
   "cell_type": "code",
   "execution_count": 2,
   "id": "815a8c0e",
   "metadata": {},
   "outputs": [],
   "source": [
    "features_path = '/projects/MultiActiveAI/Samir_VICReg_Outputs/features_third_pass'\n",
    "# clusters_path = '/projects/MultiActiveAI/Samir_VICReg_Outputs/clusters_third_pass'\n",
    "# include_indices_path = '/projects/MultiActiveAI/Samir_VICReg_Outputs/indices_third_pass/include_indices.pth'\n",
    "# label_predictions_path = '/projects/MultiActiveAI/Samir_VICReg_Outputs/indices_third_pass/label_predictions.pth'\n",
    "# indices_path = '/projects/MultiActiveAI/Samir_VICReg_Outputs/indices_third_pass/indices.pth'"
   ]
  },
  {
   "cell_type": "code",
   "execution_count": 3,
   "id": "71bba5b5",
   "metadata": {
    "scrolled": false
   },
   "outputs": [
    {
     "name": "stdout",
     "output_type": "stream",
     "text": [
      "We have 2136286 feature vectors.\n"
     ]
    }
   ],
   "source": [
    "feats, fpaths = bring_features_and_file_paths(features_path, sub_sample=None)\n",
    "# feats, fpaths = bring_features_and_file_paths('/grand/projects/BirdAudio/Soundscapes/Second_Features/', sub_sample=None)\n",
    "indices = torch.randperm(feats.size()[0])\n",
    "feats=feats[indices]\n",
    "fpaths=fpaths[indices]"
   ]
  },
  {
   "cell_type": "code",
   "execution_count": 4,
   "id": "96e72fc8",
   "metadata": {
    "scrolled": true
   },
   "outputs": [
    {
     "name": "stderr",
     "output_type": "stream",
     "text": [
      "  1%|          | 22558/2136286 [01:36<1:18:15, 450.16it/s]"
     ]
    },
    {
     "name": "stdout",
     "output_type": "stream",
     "text": [
      "Something was wrong with\n",
      "\u0000\u0000\u0000\u0000\u0000\u0000\u0000\u0000\u0000\u0000\u0000\u0000\u0000\u0000\u0000\u0000\u0000\u0000\u0000\u0000\u0000\u0000\u0000\u0000\u0000\u0000\u0000\u0000\u0000\u0000\u0000\u0000\u0000\u0000\u0000\u0000\u0000\u0000\u0000\u0000\u0000\u0000\u0000\u0000\u0000\u0000\u0000\u0000\u0000\u0000\u0000\u0000\u0000\u0000\u0000\u0000\u0000\u0000\u0000\u0000\u0000\u0000\u0000\u0000\u0000\u0000\u0000\u0000\u0000\u0000\u0000\u0000\u0000\u0000\u0000\u0000\u0000\u0000\u0000\u0000\u0000\n"
     ]
    },
    {
     "name": "stderr",
     "output_type": "stream",
     "text": [
      "  1%|▏         | 28966/2136286 [01:51<1:17:00, 456.13it/s]"
     ]
    },
    {
     "name": "stdout",
     "output_type": "stream",
     "text": [
      "Something was wrong with\n",
      "\u0000\u0000\u0000\u0000\u0000\u0000\u0000\u0000\u0000\u0000\u0000\u0000\u0000\u0000\u0000\u0000\u0000\u0000\u0000\u0000\u0000\u0000\u0000\u0000\u0000\u0000\u0000\u0000\u0000\u0000\u0000\u0000\u0000\u0000\u0000\u0000\u0000\u0000\u0000\u0000\u0000\u0000\u0000\u0000\u0000\u0000\u0000\u0000\u0000\u0000\u0000\u0000\u0000\u0000\u0000\u0000\u0000\u0000\u0000\u0000\u0000\u0000\u0000\u0000\u0000\u0000\u0000\u0000\u0000\u0000\u0000\u0000\u0000\u0000\u0000\u0000\u0000\u0000\u0000\u0000\u0000\n"
     ]
    },
    {
     "name": "stderr",
     "output_type": "stream",
     "text": [
      "  2%|▏         | 40034/2136286 [02:16<1:18:56, 442.54it/s]"
     ]
    },
    {
     "name": "stdout",
     "output_type": "stream",
     "text": [
      "Something was wrong with\n",
      "\u0000\u0000\u0000\u0000\u0000\u0000\u0000\u0000\u0000\u0000\u0000\u0000\u0000\u0000\u0000\u0000\u0000\u0000\u0000\u0000\u0000\u0000\u0000\u0000\u0000\u0000\u0000\u0000\u0000\u0000\u0000\u0000\u0000\u0000\u0000\u0000\u0000\u0000\u0000\u0000\u0000\u0000\u0000\u0000\u0000\u0000\u0000\u0000\u0000\u0000\u0000\u0000\u0000\u0000\u0000\u0000\u0000\u0000\u0000\u0000\u0000\u0000\u0000\u0000\u0000\u0000\u0000\u0000\u0000\u0000\u0000\u0000\u0000\u0000\u0000\u0000\u0000\u0000\u0000\u0000\u0000\n"
     ]
    },
    {
     "name": "stderr",
     "output_type": "stream",
     "text": [
      "  2%|▏         | 41325/2136286 [02:19<1:19:24, 439.69it/s]"
     ]
    },
    {
     "name": "stdout",
     "output_type": "stream",
     "text": [
      "Something was wrong with\n",
      "\u0000\u0000\u0000\u0000\u0000\u0000\u0000\u0000\u0000\u0000\u0000\u0000\u0000\u0000\u0000\u0000\u0000\u0000\u0000\u0000\u0000\u0000\u0000\u0000\u0000\u0000\u0000\u0000\u0000\u0000\u0000\u0000\u0000\u0000\u0000\u0000\u0000\u0000\u0000\u0000\u0000\u0000\u0000\u0000\u0000\u0000\u0000\u0000\u0000\u0000\u0000\u0000\u0000\u0000\u0000\u0000\u0000\u0000\u0000\u0000\u0000\u0000\u0000\u0000\u0000\u0000\u0000\u0000\u0000\u0000\u0000\u0000\u0000\u0000\u0000\u0000\u0000\u0000\u0000\u0000\u0000\n"
     ]
    },
    {
     "name": "stderr",
     "output_type": "stream",
     "text": [
      "  2%|▏         | 43328/2136286 [02:23<1:18:53, 442.16it/s]"
     ]
    },
    {
     "name": "stdout",
     "output_type": "stream",
     "text": [
      "Something was wrong with\n",
      "\u0000\u0000\u0000\u0000\u0000\u0000\u0000\u0000\u0000\u0000\u0000\u0000\u0000\u0000\u0000\u0000\u0000\u0000\u0000\u0000\u0000\u0000\u0000\u0000\u0000\u0000\u0000\u0000\u0000\u0000\u0000\u0000\u0000\u0000\u0000\u0000\u0000\u0000\u0000\u0000\u0000\u0000\u0000\u0000\u0000\u0000\u0000\u0000\u0000\u0000\u0000\u0000\u0000\u0000\u0000\u0000\u0000\u0000\u0000\u0000\u0000\u0000\u0000\u0000\u0000\u0000\u0000\u0000\u0000\u0000\u0000\u0000\u0000\u0000\u0000\u0000\u0000\u0000\u0000\u0000\u0000\n"
     ]
    },
    {
     "name": "stderr",
     "output_type": "stream",
     "text": [
      "  4%|▍         | 86141/2136286 [04:00<1:17:44, 439.49it/s]"
     ]
    },
    {
     "name": "stdout",
     "output_type": "stream",
     "text": [
      "Something was wrong with\n",
      "\u0000\u0000\u0000\u0000\u0000\u0000\u0000\u0000\u0000\u0000\u0000\u0000\u0000\u0000\u0000\u0000\u0000\u0000\u0000\u0000\u0000\u0000\u0000\u0000\u0000\u0000\u0000\u0000\u0000\u0000\u0000\u0000\u0000\u0000\u0000\u0000\u0000\u0000\u0000\u0000\u0000\u0000\u0000\u0000\u0000\u0000\u0000\u0000\u0000\u0000\u0000\u0000\u0000\u0000\u0000\u0000\u0000\u0000\u0000\u0000\u0000\u0000\u0000\u0000\u0000\u0000\u0000\u0000\u0000\u0000\u0000\u0000\u0000\u0000\u0000\u0000\u0000\u0000\u0000\u0000\u0000\n"
     ]
    },
    {
     "name": "stderr",
     "output_type": "stream",
     "text": [
      "  4%|▍         | 93730/2136286 [04:17<1:13:23, 463.80it/s]"
     ]
    },
    {
     "name": "stdout",
     "output_type": "stream",
     "text": [
      "Something was wrong with\n",
      "\u0000\u0000\u0000\u0000\u0000\u0000\u0000\u0000\u0000\u0000\u0000\u0000\u0000\u0000\u0000\u0000\u0000\u0000\u0000\u0000\u0000\u0000\u0000\u0000\u0000\u0000\u0000\u0000\u0000\u0000\u0000\u0000\u0000\u0000\u0000\u0000\u0000\u0000\u0000\u0000\u0000\u0000\u0000\u0000\u0000\u0000\u0000\u0000\u0000\u0000\u0000\u0000\u0000\u0000\u0000\u0000\u0000\u0000\u0000\u0000\u0000\u0000\u0000\u0000\u0000\u0000\u0000\u0000\u0000\u0000\u0000\u0000\u0000\u0000\u0000\u0000\u0000\u0000\u0000\u0000\u0000\n"
     ]
    },
    {
     "name": "stderr",
     "output_type": "stream",
     "text": [
      "  5%|▌         | 107045/2136286 [04:47<1:14:10, 456.01it/s]"
     ]
    },
    {
     "name": "stdout",
     "output_type": "stream",
     "text": [
      "Something was wrong with\n",
      "\u0000\u0000\u0000\u0000\u0000\u0000\u0000\u0000\u0000\u0000\u0000\u0000\u0000\u0000\u0000\u0000\u0000\u0000\u0000\u0000\u0000\u0000\u0000\u0000\u0000\u0000\u0000\u0000\u0000\u0000\u0000\u0000\u0000\u0000\u0000\u0000\u0000\u0000\u0000\u0000\u0000\u0000\u0000\u0000\u0000\u0000\u0000\u0000\u0000\u0000\u0000\u0000\u0000\u0000\u0000\u0000\u0000\u0000\u0000\u0000\u0000\u0000\u0000\u0000\u0000\u0000\u0000\u0000\u0000\u0000\u0000\u0000\u0000\u0000\u0000\u0000\u0000\u0000\u0000\u0000\u0000\n"
     ]
    },
    {
     "name": "stderr",
     "output_type": "stream",
     "text": [
      "  5%|▌         | 114033/2136286 [05:03<1:08:20, 493.20it/s]"
     ]
    },
    {
     "name": "stdout",
     "output_type": "stream",
     "text": [
      "Something was wrong with\n",
      "\u0000\u0000\u0000\u0000\u0000\u0000\u0000\u0000\u0000\u0000\u0000\u0000\u0000\u0000\u0000\u0000\u0000\u0000\u0000\u0000\u0000\u0000\u0000\u0000\u0000\u0000\u0000\u0000\u0000\u0000\u0000\u0000\u0000\u0000\u0000\u0000\u0000\u0000\u0000\u0000\u0000\u0000\u0000\u0000\u0000\u0000\u0000\u0000\u0000\u0000\u0000\u0000\u0000\u0000\u0000\u0000\u0000\u0000\u0000\u0000\u0000\u0000\u0000\u0000\u0000\u0000\u0000\u0000\u0000\u0000\u0000\u0000\u0000\u0000\u0000\u0000\u0000\u0000\u0000\u0000\u0000\n"
     ]
    },
    {
     "name": "stderr",
     "output_type": "stream",
     "text": [
      "  6%|▌         | 129178/2136286 [05:37<1:16:53, 435.04it/s]"
     ]
    },
    {
     "name": "stdout",
     "output_type": "stream",
     "text": [
      "Something was wrong with\n",
      "\u0000\u0000\u0000\u0000\u0000\u0000\u0000\u0000\u0000\u0000\u0000\u0000\u0000\u0000\u0000\u0000\u0000\u0000\u0000\u0000\u0000\u0000\u0000\u0000\u0000\u0000\u0000\u0000\u0000\u0000\u0000\u0000\u0000\u0000\u0000\u0000\u0000\u0000\u0000\u0000\u0000\u0000\u0000\u0000\u0000\u0000\u0000\u0000\u0000\u0000\u0000\u0000\u0000\u0000\u0000\u0000\u0000\u0000\u0000\u0000\u0000\u0000\u0000\u0000\u0000\u0000\u0000\u0000\u0000\u0000\u0000\u0000\u0000\u0000\u0000\u0000\u0000\u0000\u0000\u0000\u0000\n"
     ]
    },
    {
     "name": "stderr",
     "output_type": "stream",
     "text": [
      "  7%|▋         | 138927/2136286 [05:59<1:14:48, 445.01it/s]"
     ]
    },
    {
     "name": "stdout",
     "output_type": "stream",
     "text": [
      "Something was wrong with\n",
      "\u0000\u0000\u0000\u0000\u0000\u0000\u0000\u0000\u0000\u0000\u0000\u0000\u0000\u0000\u0000\u0000\u0000\u0000\u0000\u0000\u0000\u0000\u0000\u0000\u0000\u0000\u0000\u0000\u0000\u0000\u0000\u0000\u0000\u0000\u0000\u0000\u0000\u0000\u0000\u0000\u0000\u0000\u0000\u0000\u0000\u0000\u0000\u0000\u0000\u0000\u0000\u0000\u0000\u0000\u0000\u0000\u0000\u0000\u0000\u0000\u0000\u0000\u0000\u0000\u0000\u0000\u0000\u0000\u0000\u0000\u0000\u0000\u0000\u0000\u0000\u0000\u0000\u0000\u0000\u0000\u0000\n"
     ]
    },
    {
     "name": "stderr",
     "output_type": "stream",
     "text": [
      "  7%|▋         | 146354/2136286 [06:16<1:13:16, 452.59it/s]"
     ]
    },
    {
     "name": "stdout",
     "output_type": "stream",
     "text": [
      "Something was wrong with\n",
      "\u0000\u0000\u0000\u0000\u0000\u0000\u0000\u0000\u0000\u0000\u0000\u0000\u0000\u0000\u0000\u0000\u0000\u0000\u0000\u0000\u0000\u0000\u0000\u0000\u0000\u0000\u0000\u0000\u0000\u0000\u0000\u0000\u0000\u0000\u0000\u0000\u0000\u0000\u0000\u0000\u0000\u0000\u0000\u0000\u0000\u0000\u0000\u0000\u0000\u0000\u0000\u0000\u0000\u0000\u0000\u0000\u0000\u0000\u0000\u0000\u0000\u0000\u0000\u0000\u0000\u0000\u0000\u0000\u0000\u0000\u0000\u0000\u0000\u0000\u0000\u0000\u0000\u0000\u0000\u0000\u0000\n"
     ]
    },
    {
     "name": "stderr",
     "output_type": "stream",
     "text": [
      "  7%|▋         | 152420/2136286 [06:30<1:22:45, 399.51it/s]"
     ]
    },
    {
     "name": "stdout",
     "output_type": "stream",
     "text": [
      "Something was wrong with\n",
      "\u0000\u0000\u0000\u0000\u0000\u0000\u0000\u0000\u0000\u0000\u0000\u0000\u0000\u0000\u0000\u0000\u0000\u0000\u0000\u0000\u0000\u0000\u0000\u0000\u0000\u0000\u0000\u0000\u0000\u0000\u0000\u0000\u0000\u0000\u0000\u0000\u0000\u0000\u0000\u0000\u0000\u0000\u0000\u0000\u0000\u0000\u0000\u0000\u0000\u0000\u0000\u0000\u0000\u0000\u0000\u0000\u0000\u0000\u0000\u0000\u0000\u0000\u0000\u0000\u0000\u0000\u0000\u0000\u0000\u0000\u0000\u0000\u0000\u0000\u0000\u0000\u0000\u0000\u0000\u0000\u0000\n"
     ]
    },
    {
     "name": "stderr",
     "output_type": "stream",
     "text": [
      "  8%|▊         | 177791/2136286 [07:28<1:18:11, 417.44it/s]"
     ]
    },
    {
     "name": "stdout",
     "output_type": "stream",
     "text": [
      "Something was wrong with\n",
      "\u0000\u0000\u0000\u0000\u0000\u0000\u0000\u0000\u0000\u0000\u0000\u0000\u0000\u0000\u0000\u0000\u0000\u0000\u0000\u0000\u0000\u0000\u0000\u0000\u0000\u0000\u0000\u0000\u0000\u0000\u0000\u0000\u0000\u0000\u0000\u0000\u0000\u0000\u0000\u0000\u0000\u0000\u0000\u0000\u0000\u0000\u0000\u0000\u0000\u0000\u0000\u0000\u0000\u0000\u0000\u0000\u0000\u0000\u0000\u0000\u0000\u0000\u0000\u0000\u0000\u0000\u0000\u0000\u0000\u0000\u0000\u0000\u0000\u0000\u0000\u0000\u0000\u0000\u0000\u0000\u0000\n"
     ]
    },
    {
     "name": "stderr",
     "output_type": "stream",
     "text": [
      "  8%|▊         | 179454/2136286 [07:31<1:14:33, 437.44it/s]"
     ]
    },
    {
     "name": "stdout",
     "output_type": "stream",
     "text": [
      "Something was wrong with\n",
      "\u0000\u0000\u0000\u0000\u0000\u0000\u0000\u0000\u0000\u0000\u0000\u0000\u0000\u0000\u0000\u0000\u0000\u0000\u0000\u0000\u0000\u0000\u0000\u0000\u0000\u0000\u0000\u0000\u0000\u0000\u0000\u0000\u0000\u0000\u0000\u0000\u0000\u0000\u0000\u0000\u0000\u0000\u0000\u0000\u0000\u0000\u0000\u0000\u0000\u0000\u0000\u0000\u0000\u0000\u0000\u0000\u0000\u0000\u0000\u0000\u0000\u0000\u0000\u0000\u0000\u0000\u0000\u0000\u0000\u0000\u0000\u0000\u0000\u0000\u0000\u0000\u0000\u0000\u0000\u0000\u0000\n"
     ]
    },
    {
     "name": "stderr",
     "output_type": "stream",
     "text": [
      "  9%|▉         | 187429/2136286 [07:50<1:12:00, 451.07it/s]"
     ]
    },
    {
     "name": "stdout",
     "output_type": "stream",
     "text": [
      "Something was wrong with\n",
      "\u0000\u0000\u0000\u0000\u0000\u0000\u0000\u0000\u0000\u0000\u0000\u0000\u0000\u0000\u0000\u0000\u0000\u0000\u0000\u0000\u0000\u0000\u0000\u0000\u0000\u0000\u0000\u0000\u0000\u0000\u0000\u0000\u0000\u0000\u0000\u0000\u0000\u0000\u0000\u0000\u0000\u0000\u0000\u0000\u0000\u0000\u0000\u0000\u0000\u0000\u0000\u0000\u0000\u0000\u0000\u0000\u0000\u0000\u0000\u0000\u0000\u0000\u0000\u0000\u0000\u0000\u0000\u0000\u0000\u0000\u0000\u0000\u0000\u0000\u0000\u0000\u0000\u0000\u0000\u0000\u0000\n"
     ]
    },
    {
     "name": "stderr",
     "output_type": "stream",
     "text": [
      "  9%|▉         | 200001/2136286 [08:18<1:20:26, 401.19it/s]\n"
     ]
    }
   ],
   "source": [
    "aspect='detection'\n",
    "\n",
    "vectors=[]\n",
    "labels=[]\n",
    "BirdNET_BASE_PATH = '/grand/projects/BirdAudio/Soundscapes/BirdNET_Output'\n",
    "Spectrograms_BASE_PATH = '/grand/projects/BirdAudio/Soundscapes/Second_Filtered_Spectrograms/'\n",
    "# Spectrograms_BASE_PATH = '/grand/projects/BirdAudio/Soundscapes/First_Filtered_Spectrograms'\n",
    "spectrogram_duration = 9.0\n",
    "for k, (fpath, feat) in enumerate(tqdm(zip(fpaths,feats), total=len(feats))):\n",
    "    file_path = ''.join([chr(int(x)) for x in fpath]).replace('~','')\n",
    "    BirdNET_PATH = from_spectrogram_path_to_BirdNET_output_path(fpath)\n",
    "\n",
    "    try:\n",
    "        start_time = get_spectrogram_time_mark_in_file(fpath, spectrogram_duration)\n",
    "        \n",
    "        interval = (start_time, start_time + spectrogram_duration)\n",
    "        data_elements = get_BirdNET_detections(os.path.join(BirdNET_BASE_PATH, BirdNET_PATH), interval, confidence_threshold = 0.0)\n",
    "        for data_element in data_elements:\n",
    "            vectors.append(np.array(feat))\n",
    "            labels.append(data_element[aspect])\n",
    "\n",
    "    except:\n",
    "        print(\"Something was wrong with\")\n",
    "        print(file_path)\n",
    "\n",
    "\n",
    "    if k > 200000:\n",
    "        break\n",
    "\n",
    "vectors=np.array(vectors)\n",
    "labels=np.array(labels)\n",
    "unique_labels=np.unique(labels)\n",
    "aux=[]\n",
    "for label in labels:\n",
    "    aux.append(np.where(unique_labels==label)[0].item())\n",
    "    \n",
    "labels=np.array(aux)"
   ]
  },
  {
   "cell_type": "code",
   "execution_count": 5,
   "id": "36b86a89",
   "metadata": {},
   "outputs": [],
   "source": [
    "if aspect=='detection':\n",
    "    mask=np.array([unique_labels=='Blue Jay'])\n",
    "    mask=np.logical_or(mask,np.array([unique_labels=='Eastern Wood-Pewee']))\n",
    "#     mask=np.logical_or(mask,np.array([unique_labels=='Great Crested Flycatcher']))\n",
    "#     mask=np.logical_or(mask,np.array([unique_labels=='Hairy Woodpecker']))\n",
    "    mask=np.logical_or(mask,np.array([unique_labels=='Indigo Bunting']))\n",
    "#     mask=np.logical_or(mask,np.array([unique_labels=='Ovenbird']))\n",
    "#     mask=np.logical_or(mask,np.array([unique_labels=='Red-eyed Vireo']))\n",
    "#     mask=np.logical_or(mask,np.array([unique_labels=='Scarlet Tanager']))\n",
    "#     mask=np.logical_or(mask,np.array([unique_labels=='Tree Swallow']))\n",
    "    mask=np.logical_or(mask,np.array([unique_labels=='No detection']))\n",
    "\n",
    "    chosen_labels=np.where(mask[0])[0]\n",
    "    chosen_labels\n",
    "\n",
    "    def find_indices(A, B):\n",
    "        indices = np.where(np.isin(A, B))\n",
    "        return indices\n",
    "\n",
    "    indices=find_indices(labels, chosen_labels)[0]\n",
    "\n",
    "    vectors = vectors[indices]\n",
    "    labels = labels[indices]\n"
   ]
  },
  {
   "cell_type": "code",
   "execution_count": 6,
   "id": "b9766b97",
   "metadata": {},
   "outputs": [
    {
     "data": {
      "text/plain": [
       "(179985, 2048)"
      ]
     },
     "execution_count": 6,
     "metadata": {},
     "output_type": "execute_result"
    }
   ],
   "source": [
    "vectors.shape"
   ]
  },
  {
   "cell_type": "code",
   "execution_count": 7,
   "id": "e488cf69",
   "metadata": {},
   "outputs": [
    {
     "data": {
      "text/plain": [
       "(179985,)"
      ]
     },
     "execution_count": 7,
     "metadata": {},
     "output_type": "execute_result"
    }
   ],
   "source": [
    "labels.shape"
   ]
  },
  {
   "cell_type": "code",
   "execution_count": 8,
   "id": "aa68d3eb",
   "metadata": {},
   "outputs": [
    {
     "data": {
      "text/plain": [
       "array(['American Crow', 'American Goldfinch', 'American Redstart',\n",
       "       'American Robin', 'Baltimore Oriole', 'Barn Swallow',\n",
       "       'Bay-breasted Warbler', 'Belted Kingfisher',\n",
       "       'Black-and-white Warbler', 'Black-capped Chickadee',\n",
       "       'Black-crowned Night-Heron', 'Black-throated Green Warbler',\n",
       "       'Blackburnian Warbler', 'Blackpoll Warbler', 'Blue Jay',\n",
       "       'Blue-gray Gnatcatcher', 'Blue-headed Vireo', 'Brown Thrasher',\n",
       "       'Brown-headed Cowbird', 'Canada Goose', 'Caspian Tern',\n",
       "       'Cedar Waxwing', 'Chestnut-sided Warbler', 'Chimney Swift',\n",
       "       'Chipping Sparrow', 'Common Grackle', 'Common Nighthawk',\n",
       "       'Common Yellowthroat', \"Cooper's Hawk\", 'Dark-eyed Junco',\n",
       "       'Double-crested Cormorant', 'Downy Woodpecker', 'Eastern Bluebird',\n",
       "       'Eastern Kingbird', 'Eastern Phoebe', 'Eastern Towhee',\n",
       "       'Eastern Wood-Pewee', 'European Starling', 'Field Sparrow',\n",
       "       'Golden-winged Warbler', 'Gray Catbird', 'Gray-cheeked Thrush',\n",
       "       'Great Blue Heron', 'Great Crested Flycatcher', 'Great Egret',\n",
       "       'Green Heron', 'Hairy Woodpecker', 'Herring Gull', 'House Finch',\n",
       "       'House Sparrow', 'House Wren', 'Indigo Bunting', 'Killdeer',\n",
       "       'Least Flycatcher', 'Least Sandpiper', \"Lincoln's Sparrow\",\n",
       "       'Magnolia Warbler', 'Mallard', 'Marsh Wren', 'Mourning Dove',\n",
       "       'Nashville Warbler', 'No detection', 'Northern Cardinal',\n",
       "       'Northern Flicker', 'Northern Rough-winged Swallow',\n",
       "       'Northern Waterthrush', 'Olive-sided Flycatcher', 'Ovenbird',\n",
       "       'Palm Warbler', 'Philadelphia Vireo', 'Pied-billed Grebe',\n",
       "       'Red-bellied Woodpecker', 'Red-breasted Nuthatch',\n",
       "       'Red-eyed Vireo', 'Red-headed Woodpecker', 'Red-tailed Hawk',\n",
       "       'Red-winged Blackbird', 'Ring-billed Gull',\n",
       "       'Rose-breasted Grosbeak', 'Ruby-crowned Kinglet',\n",
       "       'Ruby-throated Hummingbird', 'Savannah Sparrow', 'Scarlet Tanager',\n",
       "       'Solitary Sandpiper', 'Song Sparrow', 'Spotted Sandpiper',\n",
       "       \"Swainson's Thrush\", 'Tennessee Warbler', 'Tree Swallow', 'Veery',\n",
       "       'Warbling Vireo', 'White-breasted Nuthatch',\n",
       "       'White-crowned Sparrow', 'White-throated Sparrow',\n",
       "       'Willow Flycatcher', \"Wilson's Warbler\", 'Wood Duck',\n",
       "       'Wood Thrush', 'Yellow Warbler', 'Yellow-bellied Sapsucker',\n",
       "       'Yellow-billed Cuckoo', 'Yellow-rumped Warbler',\n",
       "       'Yellow-throated Vireo'], dtype='<U29')"
      ]
     },
     "execution_count": 8,
     "metadata": {},
     "output_type": "execute_result"
    }
   ],
   "source": [
    "unique_labels"
   ]
  },
  {
   "cell_type": "code",
   "execution_count": null,
   "id": "8936c8bd",
   "metadata": {},
   "outputs": [
    {
     "name": "stderr",
     "output_type": "stream",
     "text": [
      "  0%|          | 0/20 [00:00<?, ?it/s]/tmp/ipykernel_1872853/2637576098.py:13: RuntimeWarning: invalid value encountered in long_scalars\n",
      "  per_label_performance.append(np.sum(label_predictions[indices]==label)/indices[0].shape[0])\n",
      "  5%|▌         | 1/20 [14:25<4:34:09, 865.75s/it]/tmp/ipykernel_1872853/2637576098.py:13: RuntimeWarning: invalid value encountered in long_scalars\n",
      "  per_label_performance.append(np.sum(label_predictions[indices]==label)/indices[0].shape[0])\n",
      " 10%|█         | 2/20 [29:25<4:25:38, 885.46s/it]/tmp/ipykernel_1872853/2637576098.py:13: RuntimeWarning: invalid value encountered in long_scalars\n",
      "  per_label_performance.append(np.sum(label_predictions[indices]==label)/indices[0].shape[0])\n",
      " 15%|█▌        | 3/20 [46:05<4:25:44, 937.88s/it]/tmp/ipykernel_1872853/2637576098.py:13: RuntimeWarning: invalid value encountered in long_scalars\n",
      "  per_label_performance.append(np.sum(label_predictions[indices]==label)/indices[0].shape[0])\n",
      " 20%|██        | 4/20 [1:04:10<4:25:33, 995.87s/it]/tmp/ipykernel_1872853/2637576098.py:13: RuntimeWarning: invalid value encountered in long_scalars\n",
      "  per_label_performance.append(np.sum(label_predictions[indices]==label)/indices[0].shape[0])\n",
      " 25%|██▌       | 5/20 [1:22:52<4:20:24, 1041.63s/it]/tmp/ipykernel_1872853/2637576098.py:13: RuntimeWarning: invalid value encountered in long_scalars\n",
      "  per_label_performance.append(np.sum(label_predictions[indices]==label)/indices[0].shape[0])\n",
      " 30%|███       | 6/20 [1:41:29<4:09:00, 1067.15s/it]/tmp/ipykernel_1872853/2637576098.py:13: RuntimeWarning: invalid value encountered in long_scalars\n",
      "  per_label_performance.append(np.sum(label_predictions[indices]==label)/indices[0].shape[0])\n",
      " 35%|███▌      | 7/20 [1:59:42<3:53:02, 1075.54s/it]/tmp/ipykernel_1872853/2637576098.py:13: RuntimeWarning: invalid value encountered in long_scalars\n",
      "  per_label_performance.append(np.sum(label_predictions[indices]==label)/indices[0].shape[0])\n",
      " 40%|████      | 8/20 [2:17:56<3:36:15, 1081.33s/it]/tmp/ipykernel_1872853/2637576098.py:13: RuntimeWarning: invalid value encountered in long_scalars\n",
      "  per_label_performance.append(np.sum(label_predictions[indices]==label)/indices[0].shape[0])\n",
      " 45%|████▌     | 9/20 [2:35:29<3:16:38, 1072.56s/it]/tmp/ipykernel_1872853/2637576098.py:13: RuntimeWarning: invalid value encountered in long_scalars\n",
      "  per_label_performance.append(np.sum(label_predictions[indices]==label)/indices[0].shape[0])\n",
      " 50%|█████     | 10/20 [2:53:41<2:59:47, 1078.72s/it]/tmp/ipykernel_1872853/2637576098.py:13: RuntimeWarning: invalid value encountered in long_scalars\n",
      "  per_label_performance.append(np.sum(label_predictions[indices]==label)/indices[0].shape[0])\n",
      " 55%|█████▌    | 11/20 [3:12:06<2:43:00, 1086.70s/it]/tmp/ipykernel_1872853/2637576098.py:13: RuntimeWarning: invalid value encountered in long_scalars\n",
      "  per_label_performance.append(np.sum(label_predictions[indices]==label)/indices[0].shape[0])\n",
      " 60%|██████    | 12/20 [3:30:41<2:26:02, 1095.29s/it]"
     ]
    }
   ],
   "source": [
    "performances=[]\n",
    "performances_per_label=[]\n",
    "jumps=list(np.arange(1,21,1))\n",
    "for n in tqdm(jumps):\n",
    "    neigh = KNeighborsClassifier(n_neighbors=n)\n",
    "    neigh.fit(vectors, labels)\n",
    "    label_predictions=neigh.predict(vectors)\n",
    "    performances.append(np.sum(label_predictions==labels)/labels.shape[0])\n",
    "    \n",
    "    per_label_performance=[]\n",
    "    for label in range(len(unique_labels)):\n",
    "        indices=np.where(labels==label)\n",
    "        per_label_performance.append(np.sum(label_predictions[indices]==label)/indices[0].shape[0])\n",
    "        \n",
    "    per_label_performance=np.array(per_label_performance)\n",
    "    performances_per_label.append(per_label_performance)\n",
    "\n",
    "performances=np.array(performances)\n",
    "performances_per_label=np.array(performances_per_label)"
   ]
  },
  {
   "cell_type": "code",
   "execution_count": null,
   "id": "09dc2309",
   "metadata": {},
   "outputs": [],
   "source": [
    "#aux=np.array([int(j+1) for j in range(jumps)])\n",
    "aux=jumps\n",
    "plt.figure(figsize=(15,8))\n",
    "plt.plot(aux, performances, marker='o')\n",
    "plt.xticks(aux)\n",
    "plt.xlabel('Number of neighbors')\n",
    "plt.ylabel('Performance')"
   ]
  },
  {
   "cell_type": "code",
   "execution_count": null,
   "id": "5f215131",
   "metadata": {},
   "outputs": [],
   "source": [
    "# sns.set(font_scale=20)\n",
    "sns.set (rc = {'figure.figsize':(5,10)})\n",
    "#sns.set (rc = {'figure.figsize':(55, 10)})\n",
    "sns.heatmap(performances_per_label[:,chosen_labels], xticklabels=unique_labels[chosen_labels], yticklabels=aux, annot=True, fmt=\".1f\")\n",
    "# sns.heatmap(performances_per_label, xticklabels=unique_labels, yticklabels=aux, annot=True, fmt=\".1f\")\n",
    "#plt.xlabel('Devices')\n",
    "plt.xlabel('Birds')\n",
    "plt.ylabel('Number of neighbors')"
   ]
  },
  {
   "cell_type": "code",
   "execution_count": null,
   "id": "d0d201bf",
   "metadata": {},
   "outputs": [],
   "source": [
    "unique_labels[chosen_labels]"
   ]
  },
  {
   "cell_type": "code",
   "execution_count": 2,
   "id": "9094f2db",
   "metadata": {},
   "outputs": [
    {
     "name": "stdout",
     "output_type": "stream",
     "text": [
      "ls: cannot access '/lcrc': No such file or directory\r\n"
     ]
    }
   ],
   "source": []
  },
  {
   "cell_type": "code",
   "execution_count": null,
   "id": "f9910acf",
   "metadata": {},
   "outputs": [],
   "source": []
  }
 ],
 "metadata": {
  "kernelspec": {
   "display_name": "Python 3 (ipykernel)",
   "language": "python",
   "name": "python3"
  },
  "language_info": {
   "codemirror_mode": {
    "name": "ipython",
    "version": 3
   },
   "file_extension": ".py",
   "mimetype": "text/x-python",
   "name": "python",
   "nbconvert_exporter": "python",
   "pygments_lexer": "ipython3",
   "version": "3.7.4"
  }
 },
 "nbformat": 4,
 "nbformat_minor": 5
}
