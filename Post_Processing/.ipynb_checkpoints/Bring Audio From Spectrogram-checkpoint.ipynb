{
 "cells": [
  {
   "cell_type": "markdown",
   "id": "76e8c1a0",
   "metadata": {},
   "source": [
    "# Bring Audio from Spectrogram"
   ]
  },
  {
   "cell_type": "code",
   "execution_count": 1,
   "id": "9c8426be",
   "metadata": {},
   "outputs": [],
   "source": [
    "import os\n",
    "import io\n",
    "import base64\n",
    "\n",
    "from IPython.display import display, clear_output, Audio, HTML\n",
    "import ipywidgets as widgets\n",
    "from PIL import Image\n",
    "import librosa\n",
    "import torch\n",
    "import matplotlib\n",
    "import matplotlib.pyplot as plt\n",
    "import pandas as pd\n",
    "\n",
    "from bring_features_and_file_paths import bring_features_and_file_paths, from_spectrogram_path_to_BirdNET_output_path, get_BirdNET_detections"
   ]
  },
  {
   "cell_type": "code",
   "execution_count": 2,
   "id": "d61095f8",
   "metadata": {},
   "outputs": [],
   "source": [
    "features_path = '/projects/MultiActiveAI/Samir_VICReg_Outputs/features_third_pass'\n",
    "indices_path = '/projects/MultiActiveAI/Samir_VICReg_Outputs/indices_third_pass/include_indices.pth'\n",
    "label_predictions_path = '/projects/MultiActiveAI/Samir_VICReg_Outputs/indices_third_pass/label_predictions.pth'\n",
    "\n",
    "birdnet_pase_path = '/grand/projects/BirdAudio/Soundscapes/BirdNET_Output'\n",
    "spectrogram_base_path = '/grand/projects/BirdAudio/Soundscapes/Spectrograms'\n",
    "audio_base_path = '/grand/projects/BirdAudio/Soundscapes/Audio_Files/'"
   ]
  },
  {
   "cell_type": "code",
   "execution_count": 3,
   "id": "c5293c52",
   "metadata": {},
   "outputs": [
    {
     "name": "stdout",
     "output_type": "stream",
     "text": [
      "We have 2136286 feature vectors.\n",
      "\n",
      "features is of shape torch.Size([2136286, 2048])\n",
      "file_paths is of shape torch.Size([2136286, 81])\n",
      "indices is of shape (212417,)\n",
      "label predictions is of shape (212417,)\n"
     ]
    }
   ],
   "source": [
    "features, file_paths = bring_features_and_file_paths(features_path)\n",
    "indices = torch.load(indices_path)\n",
    "label_predictions = torch.load(label_predictions_path)\n",
    "\n",
    "print()\n",
    "print(f\"features is of shape {features.shape}\")\n",
    "print(f\"file_paths is of shape {file_paths.shape}\")\n",
    "print(f\"indices is of shape {indices.shape}\")\n",
    "print(f\"label predictions is of shape {label_predictions.shape}\")"
   ]
  },
  {
   "cell_type": "code",
   "execution_count": 4,
   "id": "525b4836",
   "metadata": {},
   "outputs": [],
   "source": [
    "cluster = 45\n",
    "# cluster 83 (pewee)\n",
    "# cluster 3 (indigo bunting)"
   ]
  },
  {
   "cell_type": "code",
   "execution_count": 5,
   "id": "cb53146f",
   "metadata": {},
   "outputs": [
    {
     "name": "stdout",
     "output_type": "stream",
     "text": [
      "Cluster contains 1707 samples.\n"
     ]
    }
   ],
   "source": [
    "cluster_indices = indices[label_predictions == cluster]\n",
    "\n",
    "sampled_features = features[cluster_indices]\n",
    "sampled_file_paths = file_paths[cluster_indices]\n",
    "\n",
    "print(f\"Cluster contains {len(cluster_indices)} samples.\")"
   ]
  },
  {
   "cell_type": "code",
   "execution_count": 6,
   "id": "74e5d709",
   "metadata": {
    "scrolled": false
   },
   "outputs": [],
   "source": [
    "def display_spectrograms(start_index, end_index):\n",
    "    for i in range(start_index, end_index):\n",
    "        spectrogram_path_encoded = sampled_file_paths[i]\n",
    "        spectrogram_path = ''.join([chr(int(x)) for x in spectrogram_path_encoded]).replace('~','')\n",
    "\n",
    "        audio_path_prefix, spectrogram_file_name = os.path.split(spectrogram_path)\n",
    "        audio_file_name = os.path.splitext(spectrogram_file_name)[0][:24] + '.wav'\n",
    "        audio_path = os.path.join(audio_path_prefix, audio_file_name)\n",
    "\n",
    "        spectrogram_path = os.path.join(spectrogram_base_path, spectrogram_path)\n",
    "        audio_path = os.path.join(audio_base_path, audio_path)\n",
    "        \n",
    "        birdnet_path = from_spectrogram_path_to_BirdNET_output_path(spectrogram_path_encoded)\n",
    "        birdnet_path = os.path.join(birdnet_pase_path, birdnet_path)\n",
    "\n",
    "        spectrogram_length = 9.0\n",
    "        audio_start_time = float(os.path.splitext(spectrogram_file_name)[0][25:]) * spectrogram_length\n",
    "        y, sr = librosa.load(audio_path, offset=audio_start_time, duration=spectrogram_length)\n",
    "        audio = Audio(data=y, rate=sr)\n",
    "\n",
    "        spectrogram = matplotlib.image.imread(spectrogram_path)  \n",
    "        buffer = io.BytesIO()\n",
    "        plt.imsave(buffer, spectrogram, format='png')\n",
    "        img_str = base64.b64encode(buffer.getvalue()).decode()\n",
    "        img_html = f'<img width=350 src=\"data:image/png;base64,{img_str}\">'\n",
    "\n",
    "        interval = (audio_start_time, audio_start_time + spectrogram_length)\n",
    "        detections = get_BirdNET_detections(birdnet_path, interval, confidence_threshold=0.0)\n",
    "\n",
    "        detections_html = f'<h4>BirdNET Detections</h4>'\n",
    "        for detection in detections:\n",
    "            detections_html += f'<p> {detection[\"confidence\"]:.2f} | {detection[\"detection\"]}</p>'\n",
    "\n",
    "        display(HTML(f'<div style=\"display: flex; justify-content: space-around;\">\\\n",
    "                     <div style=\"display: flex; flex-direction: column; justify-content: center\">\\\n",
    "                     {audio._repr_html_()}\\\n",
    "                     {detections_html}\\\n",
    "                     </div>\\\n",
    "                     {img_html}\\\n",
    "                     </div>\\\n",
    "                     <br />\\\n",
    "                     <br />\\\n",
    "                     '))"
   ]
  },
  {
   "cell_type": "code",
   "execution_count": 7,
   "id": "41380b7e",
   "metadata": {},
   "outputs": [
    {
     "data": {
      "application/vnd.jupyter.widget-view+json": {
       "model_id": "48bae43e10814f6586fcf0a2e939688d",
       "version_major": 2,
       "version_minor": 0
      },
      "text/plain": [
       "VBox(children=(Output(), Output()))"
      ]
     },
     "metadata": {},
     "output_type": "display_data"
    }
   ],
   "source": [
    "window_size = 5\n",
    "\n",
    "slider_output = widgets.Output()\n",
    "image_output = widgets.Output()\n",
    "\n",
    "slider = widgets.IntSlider(\n",
    "    value=0,\n",
    "    min=0,\n",
    "    max=len(cluster_indices),\n",
    "    step=window_size,\n",
    "    description='Start Idx',\n",
    "    disabled=False,\n",
    "    continuous_update=False,\n",
    "    orientation='horizontal',\n",
    "    readout=True,\n",
    "    readout_format='d',\n",
    "    layout=widgets.Layout(width='500px')\n",
    ")\n",
    "\n",
    "def slider_handler(change):\n",
    "    start_index = change.new\n",
    "    with image_output:\n",
    "        clear_output()\n",
    "        display_spectrograms(start_index, min(start_index + window_size, len(cluster_indices)))\n",
    "    \n",
    "slider.observe(slider_handler, names='value')\n",
    "\n",
    "with slider_output:\n",
    "    display(slider)\n",
    "with image_output:\n",
    "    display_spectrograms(slider.value, slider.value + window_size)\n",
    "\n",
    "display(widgets.VBox([slider_output, image_output]))"
   ]
  }
 ],
 "metadata": {
  "kernelspec": {
   "display_name": "conda/2021-09-22",
   "language": "python",
   "name": "conda-2021-09-22"
  },
  "language_info": {
   "codemirror_mode": {
    "name": "ipython",
    "version": 3
   },
   "file_extension": ".py",
   "mimetype": "text/x-python",
   "name": "python",
   "nbconvert_exporter": "python",
   "pygments_lexer": "ipython3",
   "version": "3.8.10"
  }
 },
 "nbformat": 4,
 "nbformat_minor": 5
}
