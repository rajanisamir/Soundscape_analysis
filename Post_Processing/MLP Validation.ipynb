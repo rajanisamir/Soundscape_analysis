{
 "cells": [
  {
   "cell_type": "markdown",
   "id": "ccc1c9e0",
   "metadata": {},
   "source": [
    "# Multi Layer Perceptron Validation"
   ]
  },
  {
   "cell_type": "code",
   "execution_count": 1,
   "id": "20656498",
   "metadata": {},
   "outputs": [],
   "source": [
    "import os\n",
    "import numpy as np\n",
    "import torch\n",
    "\n",
    "from tqdm import tqdm\n",
    "\n",
    "from sklearn.neighbors import KNeighborsClassifier\n",
    "from sklearn.neural_network import MLPClassifier\n",
    "from sklearn.model_selection import KFold\n",
    "from sklearn import preprocessing\n",
    "\n",
    "from bring_features_and_file_paths import bring_features_and_file_paths\n",
    "from bring_features_and_file_paths import from_spectrogram_path_to_BirdNET_output_path\n",
    "from bring_features_and_file_paths import get_BirdNET_detections\n",
    "from bring_features_and_file_paths import get_spectrogram_time_mark_in_file"
   ]
  },
  {
   "cell_type": "code",
   "execution_count": 2,
   "id": "7631b29f",
   "metadata": {},
   "outputs": [
    {
     "name": "stdout",
     "output_type": "stream",
     "text": [
      "We have 101076 feature vectors.\n"
     ]
    }
   ],
   "source": [
    "feats, fpaths = bring_features_and_file_paths('/grand/projects/BirdAudio/Soundscapes/Features/', sub_sample=None)\n",
    "# feats, fpaths = bring_features_and_file_paths('/grand/projects/BirdAudio/Soundscapes/Second_Features/', sub_sample=None)\n",
    "indices = torch.randperm(feats.size()[0])\n",
    "feats=feats[indices]\n",
    "fpaths=fpaths[indices]"
   ]
  },
  {
   "cell_type": "code",
   "execution_count": 3,
   "id": "028eef39",
   "metadata": {},
   "outputs": [
    {
     "name": "stderr",
     "output_type": "stream",
     "text": [
      "  5%|▌         | 5458/101076 [00:33<05:21, 297.53it/s]"
     ]
    },
    {
     "name": "stdout",
     "output_type": "stream",
     "text": [
      "Something was wrong with\n",
      "\u0000\u0000\u0000\u0000\u0000\u0000\u0000\u0000\u0000\u0000\u0000\u0000\u0000\u0000\u0000\u0000\u0000\u0000\u0000\u0000\u0000\u0000\u0000\u0000\u0000\u0000\u0000\u0000\u0000\u0000\u0000\u0000\u0000\u0000\u0000\u0000\u0000\u0000\u0000\u0000\u0000\u0000\u0000\u0000\u0000\u0000\u0000\u0000\u0000\u0000\u0000\u0000\u0000\u0000\u0000\u0000\u0000\u0000\u0000\u0000\u0000\u0000\u0000\u0000\u0000\u0000\u0000\u0000\u0000\u0000\u0000\u0000\u0000\u0000\u0000\u0000\u0000\u0000\u0000\u0000\u0000\n"
     ]
    },
    {
     "name": "stderr",
     "output_type": "stream",
     "text": [
      " 12%|█▏        | 12219/101076 [00:58<04:57, 298.35it/s]"
     ]
    },
    {
     "name": "stdout",
     "output_type": "stream",
     "text": [
      "Something was wrong with\n",
      "\u0000\u0000\u0000\u0000\u0000\u0000\u0000\u0000\u0000\u0000\u0000\u0000\u0000\u0000\u0000\u0000\u0000\u0000\u0000\u0000\u0000\u0000\u0000\u0000\u0000\u0000\u0000\u0000\u0000\u0000\u0000\u0000\u0000\u0000\u0000\u0000\u0000\u0000\u0000\u0000\u0000\u0000\u0000\u0000\u0000\u0000\u0000\u0000\u0000\u0000\u0000\u0000\u0000\u0000\u0000\u0000\u0000\u0000\u0000\u0000\u0000\u0000\u0000\u0000\u0000\u0000\u0000\u0000\u0000\u0000\u0000\u0000\u0000\u0000\u0000\u0000\u0000\u0000\u0000\u0000\u0000\n"
     ]
    },
    {
     "name": "stderr",
     "output_type": "stream",
     "text": [
      " 12%|█▏        | 12474/101076 [00:59<05:04, 291.13it/s]"
     ]
    },
    {
     "name": "stdout",
     "output_type": "stream",
     "text": [
      "Something was wrong with\n",
      "\u0000\u0000\u0000\u0000\u0000\u0000\u0000\u0000\u0000\u0000\u0000\u0000\u0000\u0000\u0000\u0000\u0000\u0000\u0000\u0000\u0000\u0000\u0000\u0000\u0000\u0000\u0000\u0000\u0000\u0000\u0000\u0000\u0000\u0000\u0000\u0000\u0000\u0000\u0000\u0000\u0000\u0000\u0000\u0000\u0000\u0000\u0000\u0000\u0000\u0000\u0000\u0000\u0000\u0000\u0000\u0000\u0000\u0000\u0000\u0000\u0000\u0000\u0000\u0000\u0000\u0000\u0000\u0000\u0000\u0000\u0000\u0000\u0000\u0000\u0000\u0000\u0000\u0000\u0000\u0000\u0000\n"
     ]
    },
    {
     "name": "stderr",
     "output_type": "stream",
     "text": [
      " 22%|██▏       | 22431/101076 [01:34<04:31, 289.59it/s]"
     ]
    },
    {
     "name": "stdout",
     "output_type": "stream",
     "text": [
      "Something was wrong with\n",
      "\u0000\u0000\u0000\u0000\u0000\u0000\u0000\u0000\u0000\u0000\u0000\u0000\u0000\u0000\u0000\u0000\u0000\u0000\u0000\u0000\u0000\u0000\u0000\u0000\u0000\u0000\u0000\u0000\u0000\u0000\u0000\u0000\u0000\u0000\u0000\u0000\u0000\u0000\u0000\u0000\u0000\u0000\u0000\u0000\u0000\u0000\u0000\u0000\u0000\u0000\u0000\u0000\u0000\u0000\u0000\u0000\u0000\u0000\u0000\u0000\u0000\u0000\u0000\u0000\u0000\u0000\u0000\u0000\u0000\u0000\u0000\u0000\u0000\u0000\u0000\u0000\u0000\u0000\u0000\u0000\u0000\n"
     ]
    },
    {
     "name": "stderr",
     "output_type": "stream",
     "text": [
      " 28%|██▊       | 28301/101076 [01:54<04:19, 280.81it/s]"
     ]
    },
    {
     "name": "stdout",
     "output_type": "stream",
     "text": [
      "Something was wrong with\n",
      "\u0000\u0000\u0000\u0000\u0000\u0000\u0000\u0000\u0000\u0000\u0000\u0000\u0000\u0000\u0000\u0000\u0000\u0000\u0000\u0000\u0000\u0000\u0000\u0000\u0000\u0000\u0000\u0000\u0000\u0000\u0000\u0000\u0000\u0000\u0000\u0000\u0000\u0000\u0000\u0000\u0000\u0000\u0000\u0000\u0000\u0000\u0000\u0000\u0000\u0000\u0000\u0000\u0000\u0000\u0000\u0000\u0000\u0000\u0000\u0000\u0000\u0000\u0000\u0000\u0000\u0000\u0000\u0000\u0000\u0000\u0000\u0000\u0000\u0000\u0000\u0000\u0000\u0000\u0000\u0000\u0000\n"
     ]
    },
    {
     "name": "stderr",
     "output_type": "stream",
     "text": [
      " 46%|████▋     | 46867/101076 [03:00<03:21, 269.62it/s]"
     ]
    },
    {
     "name": "stdout",
     "output_type": "stream",
     "text": [
      "Something was wrong with\n",
      "\u0000\u0000\u0000\u0000\u0000\u0000\u0000\u0000\u0000\u0000\u0000\u0000\u0000\u0000\u0000\u0000\u0000\u0000\u0000\u0000\u0000\u0000\u0000\u0000\u0000\u0000\u0000\u0000\u0000\u0000\u0000\u0000\u0000\u0000\u0000\u0000\u0000\u0000\u0000\u0000\u0000\u0000\u0000\u0000\u0000\u0000\u0000\u0000\u0000\u0000\u0000\u0000\u0000\u0000\u0000\u0000\u0000\u0000\u0000\u0000\u0000\u0000\u0000\u0000\u0000\u0000\u0000\u0000\u0000\u0000\u0000\u0000\u0000\u0000\u0000\u0000\u0000\u0000\u0000\u0000\u0000\n"
     ]
    },
    {
     "name": "stderr",
     "output_type": "stream",
     "text": [
      " 64%|██████▍   | 64756/101076 [04:01<01:51, 326.88it/s]"
     ]
    },
    {
     "name": "stdout",
     "output_type": "stream",
     "text": [
      "Something was wrong with\n",
      "\u0000\u0000\u0000\u0000\u0000\u0000\u0000\u0000\u0000\u0000\u0000\u0000\u0000\u0000\u0000\u0000\u0000\u0000\u0000\u0000\u0000\u0000\u0000\u0000\u0000\u0000\u0000\u0000\u0000\u0000\u0000\u0000\u0000\u0000\u0000\u0000\u0000\u0000\u0000\u0000\u0000\u0000\u0000\u0000\u0000\u0000\u0000\u0000\u0000\u0000\u0000\u0000\u0000\u0000\u0000\u0000\u0000\u0000\u0000\u0000\u0000\u0000\u0000\u0000\u0000\u0000\u0000\u0000\u0000\u0000\u0000\u0000\u0000\u0000\u0000\u0000\u0000\u0000\u0000\u0000\u0000\n"
     ]
    },
    {
     "name": "stderr",
     "output_type": "stream",
     "text": [
      " 99%|█████████▉| 100001/101076 [06:03<00:03, 275.44it/s]\n"
     ]
    }
   ],
   "source": [
    "label='detection'\n",
    "\n",
    "vectors=[]\n",
    "labels=[]\n",
    "BirdNET_BASE_PATH = '/grand/projects/BirdAudio/Soundscapes/BirdNET_Output'\n",
    "Spectrograms_BASE_PATH = '/grand/projects/BirdAudio/Soundscapes/Second_Filtered_Spectrograms/'\n",
    "# Spectrograms_BASE_PATH = '/grand/projects/BirdAudio/Soundscapes/First_Filtered_Spectrograms'\n",
    "spectrogram_duration = 9.0\n",
    "for k, (fpath, feat) in enumerate(tqdm(zip(fpaths,feats), total=len(feats))):\n",
    "    file_path = ''.join([chr(int(x)) for x in fpath]).replace('~','')\n",
    "    BirdNET_PATH = from_spectrogram_path_to_BirdNET_output_path(fpath)\n",
    "\n",
    "    try:\n",
    "        start_time = get_spectrogram_time_mark_in_file(fpath, spectrogram_duration)\n",
    "        \n",
    "        interval = (start_time, start_time + spectrogram_duration)\n",
    "        data_elements = get_BirdNET_detections(os.path.join(BirdNET_BASE_PATH, BirdNET_PATH), interval, confidence_threshold = 0.0)\n",
    "        for data_element in data_elements:\n",
    "            vectors.append(np.array(feat))\n",
    "            labels.append(data_element[label])\n",
    "\n",
    "    except:\n",
    "        print(\"Something was wrong with\")\n",
    "        print(file_path)\n",
    "\n",
    "\n",
    "#     if k > 100000:\n",
    "    if k > 100000:\n",
    "        break\n",
    "\n",
    "vectors=np.array(vectors)\n",
    "labels=np.array(labels)\n",
    "unique_labels=np.unique(labels)\n",
    "aux=[]\n",
    "for label in labels:\n",
    "    aux.append(np.where(unique_labels==label)[0].item())\n",
    "    \n",
    "labels=np.array(aux)"
   ]
  },
  {
   "cell_type": "code",
   "execution_count": 4,
   "id": "d55773eb",
   "metadata": {},
   "outputs": [
    {
     "data": {
      "text/plain": [
       "(165321, 384)"
      ]
     },
     "execution_count": 4,
     "metadata": {},
     "output_type": "execute_result"
    }
   ],
   "source": [
    "vectors.shape"
   ]
  },
  {
   "cell_type": "code",
   "execution_count": 5,
   "id": "54daf42a",
   "metadata": {},
   "outputs": [
    {
     "data": {
      "text/plain": [
       "(165321,)"
      ]
     },
     "execution_count": 5,
     "metadata": {},
     "output_type": "execute_result"
    }
   ],
   "source": [
    "labels.shape"
   ]
  },
  {
   "cell_type": "code",
   "execution_count": 6,
   "id": "7b272e4b",
   "metadata": {},
   "outputs": [
    {
     "data": {
      "text/plain": [
       "array(['American Crow', 'American Goldfinch', 'American Redstart',\n",
       "       'American Robin', 'Baltimore Oriole', 'Barn Swallow',\n",
       "       'Belted Kingfisher', 'Black-and-white Warbler',\n",
       "       'Black-bellied Whistling-Duck', 'Black-capped Chickadee',\n",
       "       'Black-crowned Night-Heron', 'Blue Jay', 'Blue-gray Gnatcatcher',\n",
       "       'Brown-headed Cowbird', 'Canada Goose', 'Caspian Tern',\n",
       "       'Cedar Waxwing', 'Chimney Swift', 'Chipping Sparrow',\n",
       "       'Common Grackle', 'Common Nighthawk', 'Common Yellowthroat',\n",
       "       \"Cooper's Hawk\", 'Downy Woodpecker', 'Eastern Bluebird',\n",
       "       'Eastern Kingbird', 'Eastern Phoebe', 'Eastern Towhee',\n",
       "       'Eastern Wood-Pewee', 'European Starling', 'Field Sparrow',\n",
       "       'Gray Catbird', 'Great Blue Heron', 'Great Crested Flycatcher',\n",
       "       'Great Egret', 'Green Heron', 'Hairy Woodpecker', 'House Finch',\n",
       "       'House Sparrow', 'House Wren', 'Indigo Bunting', 'Killdeer',\n",
       "       'Mallard', 'Marsh Wren', 'Mourning Dove', 'No detection',\n",
       "       'Northern Cardinal', 'Northern Flicker',\n",
       "       'Northern Rough-winged Swallow', 'Ovenbird',\n",
       "       'Red-bellied Woodpecker', 'Red-eyed Vireo',\n",
       "       'Red-headed Woodpecker', 'Red-tailed Hawk', 'Red-winged Blackbird',\n",
       "       'Ring-billed Gull', 'Rose-breasted Grosbeak',\n",
       "       'Ruby-throated Hummingbird', 'Savannah Sparrow', 'Scarlet Tanager',\n",
       "       'Solitary Sandpiper', 'Song Sparrow', 'Spotted Sandpiper',\n",
       "       \"Swainson's Thrush\", 'Tennessee Warbler', 'Tree Swallow',\n",
       "       'Warbling Vireo', 'White-breasted Nuthatch', 'Willow Flycatcher',\n",
       "       'Wood Duck', 'Wood Thrush', 'Yellow Warbler',\n",
       "       'Yellow-billed Cuckoo'], dtype='<U29')"
      ]
     },
     "execution_count": 6,
     "metadata": {},
     "output_type": "execute_result"
    }
   ],
   "source": [
    "unique_labels"
   ]
  },
  {
   "cell_type": "code",
   "execution_count": 7,
   "id": "f53cc8a8",
   "metadata": {},
   "outputs": [],
   "source": [
    "# clf = MLPClassifier(solver='adam', alpha=1e-5, hidden_layer_sizes=(100,), random_state=1, activation='identity', max_iter=2000)\n",
    "clf = MLPClassifier(solver='lbfgs', alpha=1e-5, hidden_layer_sizes=(20,), random_state=1, activation='identity', max_iter=2000)"
   ]
  },
  {
   "cell_type": "code",
   "execution_count": 8,
   "id": "5b00f519",
   "metadata": {},
   "outputs": [
    {
     "name": "stderr",
     "output_type": "stream",
     "text": [
      "/home/demattie/.conda/envs/soundscape_env/lib/python3.10/site-packages/sklearn/neural_network/_multilayer_perceptron.py:536: ConvergenceWarning: lbfgs failed to converge (status=1):\n",
      "STOP: TOTAL NO. of ITERATIONS REACHED LIMIT.\n",
      "\n",
      "Increase the number of iterations (max_iter) or scale the data as shown in:\n",
      "    https://scikit-learn.org/stable/modules/preprocessing.html\n",
      "  self.n_iter_ = _check_optimize_result(\"lbfgs\", opt_res, self.max_iter)\n"
     ]
    },
    {
     "data": {
      "text/html": [
       "<style>#sk-container-id-1 {color: black;background-color: white;}#sk-container-id-1 pre{padding: 0;}#sk-container-id-1 div.sk-toggleable {background-color: white;}#sk-container-id-1 label.sk-toggleable__label {cursor: pointer;display: block;width: 100%;margin-bottom: 0;padding: 0.3em;box-sizing: border-box;text-align: center;}#sk-container-id-1 label.sk-toggleable__label-arrow:before {content: \"▸\";float: left;margin-right: 0.25em;color: #696969;}#sk-container-id-1 label.sk-toggleable__label-arrow:hover:before {color: black;}#sk-container-id-1 div.sk-estimator:hover label.sk-toggleable__label-arrow:before {color: black;}#sk-container-id-1 div.sk-toggleable__content {max-height: 0;max-width: 0;overflow: hidden;text-align: left;background-color: #f0f8ff;}#sk-container-id-1 div.sk-toggleable__content pre {margin: 0.2em;color: black;border-radius: 0.25em;background-color: #f0f8ff;}#sk-container-id-1 input.sk-toggleable__control:checked~div.sk-toggleable__content {max-height: 200px;max-width: 100%;overflow: auto;}#sk-container-id-1 input.sk-toggleable__control:checked~label.sk-toggleable__label-arrow:before {content: \"▾\";}#sk-container-id-1 div.sk-estimator input.sk-toggleable__control:checked~label.sk-toggleable__label {background-color: #d4ebff;}#sk-container-id-1 div.sk-label input.sk-toggleable__control:checked~label.sk-toggleable__label {background-color: #d4ebff;}#sk-container-id-1 input.sk-hidden--visually {border: 0;clip: rect(1px 1px 1px 1px);clip: rect(1px, 1px, 1px, 1px);height: 1px;margin: -1px;overflow: hidden;padding: 0;position: absolute;width: 1px;}#sk-container-id-1 div.sk-estimator {font-family: monospace;background-color: #f0f8ff;border: 1px dotted black;border-radius: 0.25em;box-sizing: border-box;margin-bottom: 0.5em;}#sk-container-id-1 div.sk-estimator:hover {background-color: #d4ebff;}#sk-container-id-1 div.sk-parallel-item::after {content: \"\";width: 100%;border-bottom: 1px solid gray;flex-grow: 1;}#sk-container-id-1 div.sk-label:hover label.sk-toggleable__label {background-color: #d4ebff;}#sk-container-id-1 div.sk-serial::before {content: \"\";position: absolute;border-left: 1px solid gray;box-sizing: border-box;top: 0;bottom: 0;left: 50%;z-index: 0;}#sk-container-id-1 div.sk-serial {display: flex;flex-direction: column;align-items: center;background-color: white;padding-right: 0.2em;padding-left: 0.2em;position: relative;}#sk-container-id-1 div.sk-item {position: relative;z-index: 1;}#sk-container-id-1 div.sk-parallel {display: flex;align-items: stretch;justify-content: center;background-color: white;position: relative;}#sk-container-id-1 div.sk-item::before, #sk-container-id-1 div.sk-parallel-item::before {content: \"\";position: absolute;border-left: 1px solid gray;box-sizing: border-box;top: 0;bottom: 0;left: 50%;z-index: -1;}#sk-container-id-1 div.sk-parallel-item {display: flex;flex-direction: column;z-index: 1;position: relative;background-color: white;}#sk-container-id-1 div.sk-parallel-item:first-child::after {align-self: flex-end;width: 50%;}#sk-container-id-1 div.sk-parallel-item:last-child::after {align-self: flex-start;width: 50%;}#sk-container-id-1 div.sk-parallel-item:only-child::after {width: 0;}#sk-container-id-1 div.sk-dashed-wrapped {border: 1px dashed gray;margin: 0 0.4em 0.5em 0.4em;box-sizing: border-box;padding-bottom: 0.4em;background-color: white;}#sk-container-id-1 div.sk-label label {font-family: monospace;font-weight: bold;display: inline-block;line-height: 1.2em;}#sk-container-id-1 div.sk-label-container {text-align: center;}#sk-container-id-1 div.sk-container {/* jupyter's `normalize.less` sets `[hidden] { display: none; }` but bootstrap.min.css set `[hidden] { display: none !important; }` so we also need the `!important` here to be able to override the default hidden behavior on the sphinx rendered scikit-learn.org. See: https://github.com/scikit-learn/scikit-learn/issues/21755 */display: inline-block !important;position: relative;}#sk-container-id-1 div.sk-text-repr-fallback {display: none;}</style><div id=\"sk-container-id-1\" class=\"sk-top-container\"><div class=\"sk-text-repr-fallback\"><pre>MLPClassifier(activation=&#x27;identity&#x27;, alpha=1e-05, hidden_layer_sizes=(20,),\n",
       "              max_iter=2000, random_state=1, solver=&#x27;lbfgs&#x27;)</pre><b>In a Jupyter environment, please rerun this cell to show the HTML representation or trust the notebook. <br />On GitHub, the HTML representation is unable to render, please try loading this page with nbviewer.org.</b></div><div class=\"sk-container\" hidden><div class=\"sk-item\"><div class=\"sk-estimator sk-toggleable\"><input class=\"sk-toggleable__control sk-hidden--visually\" id=\"sk-estimator-id-1\" type=\"checkbox\" checked><label for=\"sk-estimator-id-1\" class=\"sk-toggleable__label sk-toggleable__label-arrow\">MLPClassifier</label><div class=\"sk-toggleable__content\"><pre>MLPClassifier(activation=&#x27;identity&#x27;, alpha=1e-05, hidden_layer_sizes=(20,),\n",
       "              max_iter=2000, random_state=1, solver=&#x27;lbfgs&#x27;)</pre></div></div></div></div></div>"
      ],
      "text/plain": [
       "MLPClassifier(activation='identity', alpha=1e-05, hidden_layer_sizes=(20,),\n",
       "              max_iter=2000, random_state=1, solver='lbfgs')"
      ]
     },
     "execution_count": 8,
     "metadata": {},
     "output_type": "execute_result"
    }
   ],
   "source": [
    "scaler = preprocessing.StandardScaler().fit(vectors)\n",
    "clf.fit(scaler.transform(vectors), labels)"
   ]
  },
  {
   "cell_type": "code",
   "execution_count": 9,
   "id": "5c7be916",
   "metadata": {},
   "outputs": [],
   "source": [
    "kf = KFold(n_splits=10)"
   ]
  },
  {
   "cell_type": "code",
   "execution_count": 10,
   "id": "45d3513f",
   "metadata": {},
   "outputs": [
    {
     "name": "stderr",
     "output_type": "stream",
     "text": [
      "  0%|          | 0/10 [00:00<?, ?it/s]/home/demattie/.conda/envs/soundscape_env/lib/python3.10/site-packages/sklearn/neural_network/_multilayer_perceptron.py:536: ConvergenceWarning: lbfgs failed to converge (status=1):\n",
      "STOP: TOTAL NO. of ITERATIONS REACHED LIMIT.\n",
      "\n",
      "Increase the number of iterations (max_iter) or scale the data as shown in:\n",
      "    https://scikit-learn.org/stable/modules/preprocessing.html\n",
      "  self.n_iter_ = _check_optimize_result(\"lbfgs\", opt_res, self.max_iter)\n",
      " 10%|█         | 1/10 [1:28:36<13:17:32, 5316.97s/it]/home/demattie/.conda/envs/soundscape_env/lib/python3.10/site-packages/sklearn/neural_network/_multilayer_perceptron.py:536: ConvergenceWarning: lbfgs failed to converge (status=1):\n",
      "STOP: TOTAL NO. of ITERATIONS REACHED LIMIT.\n",
      "\n",
      "Increase the number of iterations (max_iter) or scale the data as shown in:\n",
      "    https://scikit-learn.org/stable/modules/preprocessing.html\n",
      "  self.n_iter_ = _check_optimize_result(\"lbfgs\", opt_res, self.max_iter)\n",
      " 20%|██        | 2/10 [2:53:40<11:32:09, 5191.21s/it]/home/demattie/.conda/envs/soundscape_env/lib/python3.10/site-packages/sklearn/neural_network/_multilayer_perceptron.py:536: ConvergenceWarning: lbfgs failed to converge (status=1):\n",
      "STOP: TOTAL NO. of ITERATIONS REACHED LIMIT.\n",
      "\n",
      "Increase the number of iterations (max_iter) or scale the data as shown in:\n",
      "    https://scikit-learn.org/stable/modules/preprocessing.html\n",
      "  self.n_iter_ = _check_optimize_result(\"lbfgs\", opt_res, self.max_iter)\n",
      " 30%|███       | 3/10 [4:15:07<9:49:25, 5052.28s/it] /home/demattie/.conda/envs/soundscape_env/lib/python3.10/site-packages/sklearn/neural_network/_multilayer_perceptron.py:536: ConvergenceWarning: lbfgs failed to converge (status=1):\n",
      "STOP: TOTAL NO. of ITERATIONS REACHED LIMIT.\n",
      "\n",
      "Increase the number of iterations (max_iter) or scale the data as shown in:\n",
      "    https://scikit-learn.org/stable/modules/preprocessing.html\n",
      "  self.n_iter_ = _check_optimize_result(\"lbfgs\", opt_res, self.max_iter)\n",
      " 60%|██████    | 6/10 [8:15:16<5:23:40, 4855.20s/it]/home/demattie/.conda/envs/soundscape_env/lib/python3.10/site-packages/sklearn/neural_network/_multilayer_perceptron.py:536: ConvergenceWarning: lbfgs failed to converge (status=1):\n",
      "STOP: TOTAL NO. of ITERATIONS REACHED LIMIT.\n",
      "\n",
      "Increase the number of iterations (max_iter) or scale the data as shown in:\n",
      "    https://scikit-learn.org/stable/modules/preprocessing.html\n",
      "  self.n_iter_ = _check_optimize_result(\"lbfgs\", opt_res, self.max_iter)\n",
      " 70%|███████   | 7/10 [9:36:04<4:02:39, 4853.04s/it]/home/demattie/.conda/envs/soundscape_env/lib/python3.10/site-packages/sklearn/neural_network/_multilayer_perceptron.py:536: ConvergenceWarning: lbfgs failed to converge (status=1):\n",
      "STOP: TOTAL NO. of ITERATIONS REACHED LIMIT.\n",
      "\n",
      "Increase the number of iterations (max_iter) or scale the data as shown in:\n",
      "    https://scikit-learn.org/stable/modules/preprocessing.html\n",
      "  self.n_iter_ = _check_optimize_result(\"lbfgs\", opt_res, self.max_iter)\n",
      " 80%|████████  | 8/10 [10:58:36<2:42:48, 4884.45s/it]/home/demattie/.conda/envs/soundscape_env/lib/python3.10/site-packages/sklearn/neural_network/_multilayer_perceptron.py:536: ConvergenceWarning: lbfgs failed to converge (status=1):\n",
      "STOP: TOTAL NO. of ITERATIONS REACHED LIMIT.\n",
      "\n",
      "Increase the number of iterations (max_iter) or scale the data as shown in:\n",
      "    https://scikit-learn.org/stable/modules/preprocessing.html\n",
      "  self.n_iter_ = _check_optimize_result(\"lbfgs\", opt_res, self.max_iter)\n",
      " 90%|█████████ | 9/10 [12:19:31<1:21:15, 4875.24s/it]/home/demattie/.conda/envs/soundscape_env/lib/python3.10/site-packages/sklearn/neural_network/_multilayer_perceptron.py:536: ConvergenceWarning: lbfgs failed to converge (status=1):\n",
      "STOP: TOTAL NO. of ITERATIONS REACHED LIMIT.\n",
      "\n",
      "Increase the number of iterations (max_iter) or scale the data as shown in:\n",
      "    https://scikit-learn.org/stable/modules/preprocessing.html\n",
      "  self.n_iter_ = _check_optimize_result(\"lbfgs\", opt_res, self.max_iter)\n",
      "100%|██████████| 10/10 [13:48:16<00:00, 4969.65s/it] \n"
     ]
    }
   ],
   "source": [
    "performances=[]\n",
    "for train_indices, test_indices in tqdm(kf.split(vectors), total=10):\n",
    "    scaler = preprocessing.StandardScaler().fit(vectors[train_indices])\n",
    "    clf.fit(scaler.transform(vectors[train_indices]), labels[train_indices])\n",
    "    performances.append(clf.score(scaler.transform(vectors[test_indices]), labels[test_indices]))"
   ]
  },
  {
   "cell_type": "code",
   "execution_count": 11,
   "id": "fa4df5dd",
   "metadata": {},
   "outputs": [
    {
     "data": {
      "text/plain": [
       "0.4445110069473851"
      ]
     },
     "execution_count": 11,
     "metadata": {},
     "output_type": "execute_result"
    }
   ],
   "source": [
    "np.mean(np.array(performances))"
   ]
  },
  {
   "cell_type": "code",
   "execution_count": 12,
   "id": "eb4eb988",
   "metadata": {},
   "outputs": [
    {
     "data": {
      "text/plain": [
       "array([11, 28, 40, 45])"
      ]
     },
     "execution_count": 12,
     "metadata": {},
     "output_type": "execute_result"
    }
   ],
   "source": [
    "mask=np.array([unique_labels=='Blue Jay'])\n",
    "mask=np.logical_or(mask,np.array([unique_labels=='Eastern Wood-Pewee']))\n",
    "mask=np.logical_or(mask,np.array([unique_labels=='Indigo Bunting']))\n",
    "# mask=np.logical_or(mask,np.array([unique_labels=='Ovenbird']))\n",
    "# mask=np.logical_or(mask,np.array([unique_labels=='Scarlet Tanager']))\n",
    "mask=np.logical_or(mask,np.array([unique_labels=='No detection']))\n",
    "\n",
    "chosen_labels=np.where(mask[0])[0]\n",
    "chosen_labels"
   ]
  },
  {
   "cell_type": "code",
   "execution_count": 13,
   "id": "864ae2da",
   "metadata": {},
   "outputs": [],
   "source": [
    "def find_indices(A, B):\n",
    "    indices = np.where(np.isin(A, B))\n",
    "    return indices\n"
   ]
  },
  {
   "cell_type": "code",
   "execution_count": 14,
   "id": "70dd547b",
   "metadata": {},
   "outputs": [
    {
     "data": {
      "text/plain": [
       "array([     5,      7,      9, ..., 165313, 165314, 165316])"
      ]
     },
     "execution_count": 14,
     "metadata": {},
     "output_type": "execute_result"
    }
   ],
   "source": [
    "indices=find_indices(labels, chosen_labels)[0]\n",
    "indices"
   ]
  },
  {
   "cell_type": "code",
   "execution_count": 15,
   "id": "c6adb9b1",
   "metadata": {},
   "outputs": [
    {
     "name": "stderr",
     "output_type": "stream",
     "text": [
      "100%|██████████| 10/10 [2:34:23<00:00, 926.32s/it] \n"
     ]
    }
   ],
   "source": [
    "f_vectors = vectors[indices]\n",
    "f_labels = labels[indices]\n",
    "f_performances=[]\n",
    "for train_indices, test_indices in tqdm(kf.split(f_vectors), total=10):\n",
    "    scaler = preprocessing.StandardScaler().fit(f_vectors[train_indices])\n",
    "    clf.fit(scaler.transform(f_vectors[train_indices]), f_labels[train_indices])\n",
    "    f_performances.append(clf.score(scaler.transform(f_vectors[test_indices]), f_labels[test_indices]))"
   ]
  },
  {
   "cell_type": "code",
   "execution_count": 16,
   "id": "20b25f74",
   "metadata": {},
   "outputs": [
    {
     "data": {
      "text/plain": [
       "0.7153753316319381"
      ]
     },
     "execution_count": 16,
     "metadata": {},
     "output_type": "execute_result"
    }
   ],
   "source": [
    "np.mean(np.array(f_performances))"
   ]
  },
  {
   "cell_type": "code",
   "execution_count": 17,
   "id": "beb8e4c4",
   "metadata": {},
   "outputs": [
    {
     "data": {
      "text/plain": [
       "(20, 4)"
      ]
     },
     "execution_count": 17,
     "metadata": {},
     "output_type": "execute_result"
    }
   ],
   "source": [
    "clf.coefs_[1].shape"
   ]
  },
  {
   "cell_type": "code",
   "execution_count": null,
   "id": "16605d28",
   "metadata": {},
   "outputs": [],
   "source": []
  }
 ],
 "metadata": {
  "kernelspec": {
   "display_name": "soundscape_env",
   "language": "python",
   "name": "soundscape_env"
  },
  "language_info": {
   "codemirror_mode": {
    "name": "ipython",
    "version": 3
   },
   "file_extension": ".py",
   "mimetype": "text/x-python",
   "name": "python",
   "nbconvert_exporter": "python",
   "pygments_lexer": "ipython3",
   "version": "3.10.9"
  }
 },
 "nbformat": 4,
 "nbformat_minor": 5
}
