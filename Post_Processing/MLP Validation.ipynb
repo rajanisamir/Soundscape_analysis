{
 "cells": [
  {
   "cell_type": "markdown",
   "id": "ccc1c9e0",
   "metadata": {},
   "source": [
    "# Multi Layer Perceptron Validation"
   ]
  },
  {
   "cell_type": "code",
   "execution_count": 41,
   "id": "20656498",
   "metadata": {},
   "outputs": [],
   "source": [
    "import os\n",
    "import numpy as np\n",
    "import torch\n",
    "\n",
    "from tqdm import tqdm\n",
    "\n",
    "from datetime import datetime\n",
    "\n",
    "from sklearn.decomposition import PCA\n",
    "from sklearn.neighbors import KNeighborsClassifier\n",
    "from sklearn.neural_network import MLPClassifier\n",
    "from sklearn.model_selection import KFold\n",
    "from sklearn import preprocessing\n",
    "\n",
    "from bring_features_and_file_paths import bring_features_and_file_paths\n",
    "from bring_features_and_file_paths import from_spectrogram_path_to_BirdNET_output_path\n",
    "from bring_features_and_file_paths import get_BirdNET_detections\n",
    "from bring_features_and_file_paths import get_spectrogram_time_mark_in_file"
   ]
  },
  {
   "cell_type": "code",
   "execution_count": 42,
   "id": "7631b29f",
   "metadata": {},
   "outputs": [],
   "source": [
    "features_path = '/projects/MultiActiveAI/Samir_VICReg_Outputs/features_second_pass'\n",
    "indices_path = '/projects/MultiActiveAI/Samir_VICReg_Outputs/indices_first_pass/exclude_indices.pth'"
   ]
  },
  {
   "cell_type": "code",
   "execution_count": 43,
   "id": "ea82f76e",
   "metadata": {},
   "outputs": [
    {
     "name": "stdout",
     "output_type": "stream",
     "text": [
      "We have 2136286 feature vectors.\n"
     ]
    }
   ],
   "source": [
    "feats, fpaths = bring_features_and_file_paths(features_path, sub_sample=None)\n",
    "\n",
    "exclude_indices = set(torch.load(indices_path))\n",
    "# exclude_indices = set(torch.load(indices_path)) | altered_gain_indices\n",
    "include_indices = [idx for idx in range(len(feats)) if idx not in exclude_indices]\n",
    "feats = feats[include_indices]\n",
    "fpaths = fpaths[include_indices]\n",
    "\n",
    "indices = torch.randperm(feats.size()[0])\n",
    "feats=feats[indices]\n",
    "fpaths=fpaths[indices]\n",
    "\n",
    "feats = PCA(n_components=384).fit_transform(feats)"
   ]
  },
  {
   "cell_type": "code",
   "execution_count": 44,
   "id": "e0caa9b7",
   "metadata": {},
   "outputs": [],
   "source": [
    "device_to_location = {\n",
    "    4862: \"Grassland 1\",\n",
    "    4879: \"Grassland 2\",\n",
    "    23734: \"Forest 1\",\n",
    "    23764: \"Forest 2\",\n",
    "    23795: \"Forest 3\",\n",
    "    23771: \"Forest 4\",\n",
    "    23757: (datetime(month=7, day=14, year=2021, hour=14, second=55), [\"Forest 3\", \"Forest 5\"]),\n",
    "    23700: \"Forest 6\",\n",
    "}"
   ]
  },
  {
   "cell_type": "code",
   "execution_count": 52,
   "id": "028eef39",
   "metadata": {},
   "outputs": [
    {
     "name": "stderr",
     "output_type": "stream",
     "text": [
      "  5%|▌         | 100001/1978138 [03:59<1:14:58, 417.47it/s]\n"
     ]
    }
   ],
   "source": [
    "label='location'\n",
    "\n",
    "vectors=[]\n",
    "labels=[]\n",
    "BirdNET_BASE_PATH = '/grand/projects/BirdAudio/Soundscapes/BirdNET_Output'\n",
    "Spectrograms_BASE_PATH = '/grand/projects/BirdAudio/Soundscapes/Second_Filtered_Spectrograms/'\n",
    "# Spectrograms_BASE_PATH = '/grand/projects/BirdAudio/Soundscapes/First_Filtered_Spectrograms'\n",
    "spectrogram_duration = 9.0\n",
    "for k, (fpath, feat) in enumerate(tqdm(zip(fpaths,feats), total=len(feats))):\n",
    "    file_path = ''.join([chr(int(x)) for x in fpath]).replace('~','')\n",
    "    BirdNET_PATH = from_spectrogram_path_to_BirdNET_output_path(fpath)\n",
    "\n",
    "    try:\n",
    "        start_time = get_spectrogram_time_mark_in_file(fpath, spectrogram_duration)\n",
    "        \n",
    "        interval = (start_time, start_time + spectrogram_duration)\n",
    "        data_elements = get_BirdNET_detections(os.path.join(BirdNET_BASE_PATH, BirdNET_PATH), interval, confidence_threshold = 0.0)\n",
    "        for data_element in data_elements:\n",
    "            device=int(data_element['device'])\n",
    "            if device!=23788:\n",
    "                if label=='location':\n",
    "                    location = device_to_location[device]\n",
    "                    if isinstance(location, tuple):\n",
    "                        date = datetime(month=data_element['month'], day=data_element['day'], year=data_element['year'], hour=data_element['hour'], second=data_element['second'])\n",
    "                        if date < location[0]:\n",
    "                            data_element['location'] = location[1][0]\n",
    "                        else:\n",
    "                            data_element['location'] = location[1][1]\n",
    "                    else:\n",
    "                        data_element['location'] = location\n",
    "                vectors.append(np.array(feat))\n",
    "                labels.append(data_element[label])\n",
    "\n",
    "    except:\n",
    "        print(\"Something was wrong with\")\n",
    "        print(file_path)\n",
    "\n",
    "\n",
    "#     if k > 100000:\n",
    "    if k > 100000:\n",
    "        break\n",
    "\n",
    "vectors=np.array(vectors)\n",
    "labels=np.array(labels)\n",
    "unique_labels=np.unique(labels)\n",
    "aux=[]\n",
    "for label in labels:\n",
    "    aux.append(np.where(unique_labels==label)[0].item())\n",
    "    \n",
    "labels=np.array(aux)"
   ]
  },
  {
   "cell_type": "code",
   "execution_count": 53,
   "id": "d55773eb",
   "metadata": {},
   "outputs": [
    {
     "data": {
      "text/plain": [
       "(114777, 384)"
      ]
     },
     "execution_count": 53,
     "metadata": {},
     "output_type": "execute_result"
    }
   ],
   "source": [
    "vectors.shape"
   ]
  },
  {
   "cell_type": "code",
   "execution_count": 54,
   "id": "54daf42a",
   "metadata": {},
   "outputs": [
    {
     "data": {
      "text/plain": [
       "(114777,)"
      ]
     },
     "execution_count": 54,
     "metadata": {},
     "output_type": "execute_result"
    }
   ],
   "source": [
    "labels.shape"
   ]
  },
  {
   "cell_type": "code",
   "execution_count": 55,
   "id": "7b272e4b",
   "metadata": {},
   "outputs": [
    {
     "data": {
      "text/plain": [
       "array(['Forest 1', 'Forest 2', 'Forest 3', 'Forest 4', 'Forest 5',\n",
       "       'Forest 6', 'Grassland 1', 'Grassland 2'], dtype='<U11')"
      ]
     },
     "execution_count": 55,
     "metadata": {},
     "output_type": "execute_result"
    }
   ],
   "source": [
    "unique_labels"
   ]
  },
  {
   "cell_type": "code",
   "execution_count": 56,
   "id": "f53cc8a8",
   "metadata": {},
   "outputs": [],
   "source": [
    "# clf = MLPClassifier(solver='adam', alpha=1e-5, hidden_layer_sizes=(100,), random_state=1, activation='identity', max_iter=2000)\n",
    "clf = MLPClassifier(solver='lbfgs', alpha=1e-5, hidden_layer_sizes=(20,), random_state=1, activation='identity', max_iter=2000)"
   ]
  },
  {
   "cell_type": "code",
   "execution_count": 57,
   "id": "5b00f519",
   "metadata": {},
   "outputs": [
    {
     "data": {
      "text/plain": [
       "MLPClassifier(activation='identity', alpha=1e-05, hidden_layer_sizes=(20,),\n",
       "              max_iter=2000, random_state=1, solver='lbfgs')"
      ]
     },
     "execution_count": 57,
     "metadata": {},
     "output_type": "execute_result"
    }
   ],
   "source": [
    "scaler = preprocessing.StandardScaler().fit(vectors)\n",
    "clf.fit(scaler.transform(vectors), labels)"
   ]
  },
  {
   "cell_type": "code",
   "execution_count": 58,
   "id": "5c7be916",
   "metadata": {},
   "outputs": [],
   "source": [
    "kf = KFold(n_splits=10)"
   ]
  },
  {
   "cell_type": "code",
   "execution_count": 59,
   "id": "45d3513f",
   "metadata": {},
   "outputs": [
    {
     "name": "stderr",
     "output_type": "stream",
     "text": [
      "100%|██████████| 10/10 [05:45<00:00, 34.51s/it]\n"
     ]
    }
   ],
   "source": [
    "performances=[]\n",
    "for train_indices, test_indices in tqdm(kf.split(vectors), total=10):\n",
    "    scaler = preprocessing.StandardScaler().fit(vectors[train_indices])\n",
    "    clf.fit(scaler.transform(vectors[train_indices]), labels[train_indices])\n",
    "    performances.append(clf.score(scaler.transform(vectors[test_indices]), labels[test_indices]))"
   ]
  },
  {
   "cell_type": "code",
   "execution_count": 60,
   "id": "fa4df5dd",
   "metadata": {},
   "outputs": [
    {
     "data": {
      "text/plain": [
       "0.9690617892679076"
      ]
     },
     "execution_count": 60,
     "metadata": {},
     "output_type": "execute_result"
    }
   ],
   "source": [
    "np.mean(np.array(performances))"
   ]
  },
  {
   "cell_type": "code",
   "execution_count": null,
   "id": "eb4eb988",
   "metadata": {},
   "outputs": [],
   "source": [
    "mask=np.array([unique_labels=='Blue Jay'])\n",
    "mask=np.logical_or(mask,np.array([unique_labels=='Eastern Wood-Pewee']))\n",
    "mask=np.logical_or(mask,np.array([unique_labels=='Indigo Bunting']))\n",
    "# mask=np.logical_or(mask,np.array([unique_labels=='Ovenbird']))\n",
    "# mask=np.logical_or(mask,np.array([unique_labels=='Scarlet Tanager']))\n",
    "mask=np.logical_or(mask,np.array([unique_labels=='No detection']))\n",
    "\n",
    "chosen_labels=np.where(mask[0])[0]\n",
    "chosen_labels"
   ]
  },
  {
   "cell_type": "code",
   "execution_count": null,
   "id": "864ae2da",
   "metadata": {},
   "outputs": [],
   "source": [
    "def find_indices(A, B):\n",
    "    indices = np.where(np.isin(A, B))\n",
    "    return indices\n"
   ]
  },
  {
   "cell_type": "code",
   "execution_count": null,
   "id": "70dd547b",
   "metadata": {},
   "outputs": [],
   "source": [
    "indices=find_indices(labels, chosen_labels)[0]\n",
    "indices"
   ]
  },
  {
   "cell_type": "code",
   "execution_count": null,
   "id": "c6adb9b1",
   "metadata": {},
   "outputs": [],
   "source": [
    "f_vectors = vectors[indices]\n",
    "f_labels = labels[indices]\n",
    "f_performances=[]\n",
    "for train_indices, test_indices in tqdm(kf.split(f_vectors), total=10):\n",
    "    scaler = preprocessing.StandardScaler().fit(f_vectors[train_indices])\n",
    "    clf.fit(scaler.transform(f_vectors[train_indices]), f_labels[train_indices])\n",
    "    f_performances.append(clf.score(scaler.transform(f_vectors[test_indices]), f_labels[test_indices]))"
   ]
  },
  {
   "cell_type": "code",
   "execution_count": null,
   "id": "20b25f74",
   "metadata": {},
   "outputs": [],
   "source": [
    "np.mean(np.array(f_performances))"
   ]
  },
  {
   "cell_type": "code",
   "execution_count": null,
   "id": "beb8e4c4",
   "metadata": {},
   "outputs": [],
   "source": [
    "clf.coefs_[1].shape"
   ]
  },
  {
   "cell_type": "code",
   "execution_count": null,
   "id": "16605d28",
   "metadata": {},
   "outputs": [],
   "source": []
  }
 ],
 "metadata": {
  "kernelspec": {
   "display_name": "conda/2021-09-22",
   "language": "python",
   "name": "conda-2021-09-22"
  },
  "language_info": {
   "codemirror_mode": {
    "name": "ipython",
    "version": 3
   },
   "file_extension": ".py",
   "mimetype": "text/x-python",
   "name": "python",
   "nbconvert_exporter": "python",
   "pygments_lexer": "ipython3",
   "version": "3.8.10"
  }
 },
 "nbformat": 4,
 "nbformat_minor": 5
}
